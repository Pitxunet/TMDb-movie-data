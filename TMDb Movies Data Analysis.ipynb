{
 "cells": [
  {
   "cell_type": "markdown",
   "metadata": {},
   "source": [
    "\n",
    "\n",
    "# Project: TMDb Movies Data Analysis\n",
    "\n",
    "## Table of Contents\n",
    "<ul>\n",
    "<li><a href=\"#intro\">Introduction</a></li>\n",
    "<li><a href=\"#wrangling\">Data Wrangling</a></li>\n",
    "<li><a href=\"#eda\">Exploratory Data Analysis</a></li>\n",
    "<li><a href=\"#conclusions\">Conclusions</a></li>\n",
    "</ul>"
   ]
  },
  {
   "cell_type": "markdown",
   "metadata": {},
   "source": [
    "<a id='intro'></a>\n",
    "## Introduction\n",
    "\n",
    "### Dataset Description \n",
    "\n",
    "\n",
    "In this Notebook I'll be analyzing data regarding 10,000 movies. This data has been collected from The Movie Database.\n",
    "\n",
    "The columns names of the dataset and their significance are the following:\n",
    "\n",
    "id   : general id of the movie                  \n",
    "imdb_id  : id assigned at imdb               \n",
    "popularity : different from rating, it depends on votes and views of the day, release date, previous days score. It fluctuates frequently             \n",
    "budget   : for producing the movie               \n",
    "revenue: revenue of the movie                 \n",
    "original_title: title of the movie          \n",
    "cast :  main roles                  \n",
    "homepage                \n",
    "director                \n",
    "tagline                 \n",
    "keywords: several keywords related to the movie                \n",
    "overview: sum-up of the movie's plot               \n",
    "runtime : duration in minutes                 \n",
    "genres                  \n",
    "production_companies    \n",
    "release_date: year, month and day of release            \n",
    "vote_count: total vote count in TMDb            \n",
    "vote_average: the mean of the votes received by the movie            \n",
    "release_year: year of release          \n",
    "budget_adj: updated budget in terms of 2010 dollars, accounting for inflation    \n",
    "revenue_adj: updated in terms of 2010 dollars, accounting for inflation\n",
    "\n",
    "### Question(s) for Analysis\n",
    "\n",
    "I'm interested in finding out if there is any correlation between the variable 'vote_average' and other variables:\n",
    "\n",
    "- Is there a correlation between good-ratings and other variables?\n",
    "- Are some companies better than others producing well rated movies?\n",
    "- Does the size of the budget matter to get good ratings?\n",
    "- Are sequels' ratings high?\n",
    "\n"
   ]
  },
  {
   "cell_type": "code",
   "execution_count": 1,
   "metadata": {},
   "outputs": [],
   "source": [
    "# importing packages\n",
    "import pandas as pd\n",
    "import numpy as np\n",
    "import matplotlib.pyplot as plt\n",
    "import seaborn as sns\n",
    "%matplotlib inline\n",
    "\n"
   ]
  },
  {
   "cell_type": "code",
   "execution_count": 2,
   "metadata": {},
   "outputs": [
    {
     "name": "stdout",
     "output_type": "stream",
     "text": [
      "Requirement already up-to-date: pandas==0.25.0 in /opt/conda/lib/python3.6/site-packages (0.25.0)\r\n",
      "Requirement already satisfied, skipping upgrade: numpy>=1.13.3 in /opt/conda/lib/python3.6/site-packages (from pandas==0.25.0) (1.19.5)\r\n",
      "Requirement already satisfied, skipping upgrade: pytz>=2017.2 in /opt/conda/lib/python3.6/site-packages (from pandas==0.25.0) (2017.3)\r\n",
      "Requirement already satisfied, skipping upgrade: python-dateutil>=2.6.1 in /opt/conda/lib/python3.6/site-packages (from pandas==0.25.0) (2.6.1)\r\n",
      "Requirement already satisfied, skipping upgrade: six>=1.5 in /opt/conda/lib/python3.6/site-packages (from python-dateutil>=2.6.1->pandas==0.25.0) (1.11.0)\r\n"
     ]
    }
   ],
   "source": [
    "# Upgrade pandas to use dataframe.explode() function. \n",
    "!pip install --upgrade pandas==0.25.0"
   ]
  },
  {
   "cell_type": "markdown",
   "metadata": {},
   "source": [
    "<a id='wrangling'></a>\n",
    "## Data Wrangling\n",
    "\n",
    "\n",
    "### General Properties\n"
   ]
  },
  {
   "cell_type": "code",
   "execution_count": 37,
   "metadata": {},
   "outputs": [
    {
     "data": {
      "text/html": [
       "<div>\n",
       "<style scoped>\n",
       "    .dataframe tbody tr th:only-of-type {\n",
       "        vertical-align: middle;\n",
       "    }\n",
       "\n",
       "    .dataframe tbody tr th {\n",
       "        vertical-align: top;\n",
       "    }\n",
       "\n",
       "    .dataframe thead th {\n",
       "        text-align: right;\n",
       "    }\n",
       "</style>\n",
       "<table border=\"1\" class=\"dataframe\">\n",
       "  <thead>\n",
       "    <tr style=\"text-align: right;\">\n",
       "      <th></th>\n",
       "      <th>id</th>\n",
       "      <th>imdb_id</th>\n",
       "      <th>popularity</th>\n",
       "      <th>budget</th>\n",
       "      <th>revenue</th>\n",
       "      <th>original_title</th>\n",
       "      <th>cast</th>\n",
       "      <th>homepage</th>\n",
       "      <th>director</th>\n",
       "      <th>tagline</th>\n",
       "      <th>...</th>\n",
       "      <th>overview</th>\n",
       "      <th>runtime</th>\n",
       "      <th>genres</th>\n",
       "      <th>production_companies</th>\n",
       "      <th>release_date</th>\n",
       "      <th>vote_count</th>\n",
       "      <th>vote_average</th>\n",
       "      <th>release_year</th>\n",
       "      <th>budget_adj</th>\n",
       "      <th>revenue_adj</th>\n",
       "    </tr>\n",
       "  </thead>\n",
       "  <tbody>\n",
       "    <tr>\n",
       "      <th>0</th>\n",
       "      <td>135397</td>\n",
       "      <td>tt0369610</td>\n",
       "      <td>32.986</td>\n",
       "      <td>150000000</td>\n",
       "      <td>1513528810</td>\n",
       "      <td>Jurassic World</td>\n",
       "      <td>Chris Pratt|Bryce Dallas Howard|Irrfan Khan|Vi...</td>\n",
       "      <td>http://www.jurassicworld.com/</td>\n",
       "      <td>Colin Trevorrow</td>\n",
       "      <td>The park is open.</td>\n",
       "      <td>...</td>\n",
       "      <td>Twenty-two years after the events of Jurassic ...</td>\n",
       "      <td>124</td>\n",
       "      <td>Action|Adventure|Science Fiction|Thriller</td>\n",
       "      <td>Universal Studios|Amblin Entertainment|Legenda...</td>\n",
       "      <td>6/9/15</td>\n",
       "      <td>5562</td>\n",
       "      <td>6.500</td>\n",
       "      <td>2015</td>\n",
       "      <td>137999939.280</td>\n",
       "      <td>1392445892.524</td>\n",
       "    </tr>\n",
       "    <tr>\n",
       "      <th>1</th>\n",
       "      <td>76341</td>\n",
       "      <td>tt1392190</td>\n",
       "      <td>28.420</td>\n",
       "      <td>150000000</td>\n",
       "      <td>378436354</td>\n",
       "      <td>Mad Max: Fury Road</td>\n",
       "      <td>Tom Hardy|Charlize Theron|Hugh Keays-Byrne|Nic...</td>\n",
       "      <td>http://www.madmaxmovie.com/</td>\n",
       "      <td>George Miller</td>\n",
       "      <td>What a Lovely Day.</td>\n",
       "      <td>...</td>\n",
       "      <td>An apocalyptic story set in the furthest reach...</td>\n",
       "      <td>120</td>\n",
       "      <td>Action|Adventure|Science Fiction|Thriller</td>\n",
       "      <td>Village Roadshow Pictures|Kennedy Miller Produ...</td>\n",
       "      <td>5/13/15</td>\n",
       "      <td>6185</td>\n",
       "      <td>7.100</td>\n",
       "      <td>2015</td>\n",
       "      <td>137999939.280</td>\n",
       "      <td>348161292.489</td>\n",
       "    </tr>\n",
       "    <tr>\n",
       "      <th>2</th>\n",
       "      <td>262500</td>\n",
       "      <td>tt2908446</td>\n",
       "      <td>13.113</td>\n",
       "      <td>110000000</td>\n",
       "      <td>295238201</td>\n",
       "      <td>Insurgent</td>\n",
       "      <td>Shailene Woodley|Theo James|Kate Winslet|Ansel...</td>\n",
       "      <td>http://www.thedivergentseries.movie/#insurgent</td>\n",
       "      <td>Robert Schwentke</td>\n",
       "      <td>One Choice Can Destroy You</td>\n",
       "      <td>...</td>\n",
       "      <td>Beatrice Prior must confront her inner demons ...</td>\n",
       "      <td>119</td>\n",
       "      <td>Adventure|Science Fiction|Thriller</td>\n",
       "      <td>Summit Entertainment|Mandeville Films|Red Wago...</td>\n",
       "      <td>3/18/15</td>\n",
       "      <td>2480</td>\n",
       "      <td>6.300</td>\n",
       "      <td>2015</td>\n",
       "      <td>101199955.472</td>\n",
       "      <td>271619025.408</td>\n",
       "    </tr>\n",
       "    <tr>\n",
       "      <th>3</th>\n",
       "      <td>140607</td>\n",
       "      <td>tt2488496</td>\n",
       "      <td>11.173</td>\n",
       "      <td>200000000</td>\n",
       "      <td>2068178225</td>\n",
       "      <td>Star Wars: The Force Awakens</td>\n",
       "      <td>Harrison Ford|Mark Hamill|Carrie Fisher|Adam D...</td>\n",
       "      <td>http://www.starwars.com/films/star-wars-episod...</td>\n",
       "      <td>J.J. Abrams</td>\n",
       "      <td>Every generation has a story.</td>\n",
       "      <td>...</td>\n",
       "      <td>Thirty years after defeating the Galactic Empi...</td>\n",
       "      <td>136</td>\n",
       "      <td>Action|Adventure|Science Fiction|Fantasy</td>\n",
       "      <td>Lucasfilm|Truenorth Productions|Bad Robot</td>\n",
       "      <td>12/15/15</td>\n",
       "      <td>5292</td>\n",
       "      <td>7.500</td>\n",
       "      <td>2015</td>\n",
       "      <td>183999919.040</td>\n",
       "      <td>1902723129.802</td>\n",
       "    </tr>\n",
       "    <tr>\n",
       "      <th>4</th>\n",
       "      <td>168259</td>\n",
       "      <td>tt2820852</td>\n",
       "      <td>9.335</td>\n",
       "      <td>190000000</td>\n",
       "      <td>1506249360</td>\n",
       "      <td>Furious 7</td>\n",
       "      <td>Vin Diesel|Paul Walker|Jason Statham|Michelle ...</td>\n",
       "      <td>http://www.furious7.com/</td>\n",
       "      <td>James Wan</td>\n",
       "      <td>Vengeance Hits Home</td>\n",
       "      <td>...</td>\n",
       "      <td>Deckard Shaw seeks revenge against Dominic Tor...</td>\n",
       "      <td>137</td>\n",
       "      <td>Action|Crime|Thriller</td>\n",
       "      <td>Universal Pictures|Original Film|Media Rights ...</td>\n",
       "      <td>4/1/15</td>\n",
       "      <td>2947</td>\n",
       "      <td>7.300</td>\n",
       "      <td>2015</td>\n",
       "      <td>174799923.088</td>\n",
       "      <td>1385748801.471</td>\n",
       "    </tr>\n",
       "  </tbody>\n",
       "</table>\n",
       "<p>5 rows × 21 columns</p>\n",
       "</div>"
      ],
      "text/plain": [
       "       id    imdb_id  popularity     budget     revenue  \\\n",
       "0  135397  tt0369610      32.986  150000000  1513528810   \n",
       "1   76341  tt1392190      28.420  150000000   378436354   \n",
       "2  262500  tt2908446      13.113  110000000   295238201   \n",
       "3  140607  tt2488496      11.173  200000000  2068178225   \n",
       "4  168259  tt2820852       9.335  190000000  1506249360   \n",
       "\n",
       "                 original_title  \\\n",
       "0                Jurassic World   \n",
       "1            Mad Max: Fury Road   \n",
       "2                     Insurgent   \n",
       "3  Star Wars: The Force Awakens   \n",
       "4                     Furious 7   \n",
       "\n",
       "                                                cast  \\\n",
       "0  Chris Pratt|Bryce Dallas Howard|Irrfan Khan|Vi...   \n",
       "1  Tom Hardy|Charlize Theron|Hugh Keays-Byrne|Nic...   \n",
       "2  Shailene Woodley|Theo James|Kate Winslet|Ansel...   \n",
       "3  Harrison Ford|Mark Hamill|Carrie Fisher|Adam D...   \n",
       "4  Vin Diesel|Paul Walker|Jason Statham|Michelle ...   \n",
       "\n",
       "                                            homepage          director  \\\n",
       "0                      http://www.jurassicworld.com/   Colin Trevorrow   \n",
       "1                        http://www.madmaxmovie.com/     George Miller   \n",
       "2     http://www.thedivergentseries.movie/#insurgent  Robert Schwentke   \n",
       "3  http://www.starwars.com/films/star-wars-episod...       J.J. Abrams   \n",
       "4                           http://www.furious7.com/         James Wan   \n",
       "\n",
       "                         tagline  ...  \\\n",
       "0              The park is open.  ...   \n",
       "1             What a Lovely Day.  ...   \n",
       "2     One Choice Can Destroy You  ...   \n",
       "3  Every generation has a story.  ...   \n",
       "4            Vengeance Hits Home  ...   \n",
       "\n",
       "                                            overview runtime  \\\n",
       "0  Twenty-two years after the events of Jurassic ...     124   \n",
       "1  An apocalyptic story set in the furthest reach...     120   \n",
       "2  Beatrice Prior must confront her inner demons ...     119   \n",
       "3  Thirty years after defeating the Galactic Empi...     136   \n",
       "4  Deckard Shaw seeks revenge against Dominic Tor...     137   \n",
       "\n",
       "                                      genres  \\\n",
       "0  Action|Adventure|Science Fiction|Thriller   \n",
       "1  Action|Adventure|Science Fiction|Thriller   \n",
       "2         Adventure|Science Fiction|Thriller   \n",
       "3   Action|Adventure|Science Fiction|Fantasy   \n",
       "4                      Action|Crime|Thriller   \n",
       "\n",
       "                                production_companies release_date vote_count  \\\n",
       "0  Universal Studios|Amblin Entertainment|Legenda...       6/9/15       5562   \n",
       "1  Village Roadshow Pictures|Kennedy Miller Produ...      5/13/15       6185   \n",
       "2  Summit Entertainment|Mandeville Films|Red Wago...      3/18/15       2480   \n",
       "3          Lucasfilm|Truenorth Productions|Bad Robot     12/15/15       5292   \n",
       "4  Universal Pictures|Original Film|Media Rights ...       4/1/15       2947   \n",
       "\n",
       "   vote_average  release_year    budget_adj    revenue_adj  \n",
       "0         6.500          2015 137999939.280 1392445892.524  \n",
       "1         7.100          2015 137999939.280  348161292.489  \n",
       "2         6.300          2015 101199955.472  271619025.408  \n",
       "3         7.500          2015 183999919.040 1902723129.802  \n",
       "4         7.300          2015 174799923.088 1385748801.471  \n",
       "\n",
       "[5 rows x 21 columns]"
      ]
     },
     "execution_count": 37,
     "metadata": {},
     "output_type": "execute_result"
    }
   ],
   "source": [
    "# Loading data and printing first few lines\n",
    "\n",
    "df=pd.read_csv('tmdb-movies.csv')\n",
    "\n",
    "df.head()\n"
   ]
  },
  {
   "cell_type": "code",
   "execution_count": 38,
   "metadata": {},
   "outputs": [
    {
     "name": "stdout",
     "output_type": "stream",
     "text": [
      "<class 'pandas.core.frame.DataFrame'>\n",
      "RangeIndex: 10866 entries, 0 to 10865\n",
      "Data columns (total 21 columns):\n",
      "id                      10866 non-null int64\n",
      "imdb_id                 10856 non-null object\n",
      "popularity              10866 non-null float64\n",
      "budget                  10866 non-null int64\n",
      "revenue                 10866 non-null int64\n",
      "original_title          10866 non-null object\n",
      "cast                    10790 non-null object\n",
      "homepage                2936 non-null object\n",
      "director                10822 non-null object\n",
      "tagline                 8042 non-null object\n",
      "keywords                9373 non-null object\n",
      "overview                10862 non-null object\n",
      "runtime                 10866 non-null int64\n",
      "genres                  10843 non-null object\n",
      "production_companies    9836 non-null object\n",
      "release_date            10866 non-null object\n",
      "vote_count              10866 non-null int64\n",
      "vote_average            10866 non-null float64\n",
      "release_year            10866 non-null int64\n",
      "budget_adj              10866 non-null float64\n",
      "revenue_adj             10866 non-null float64\n",
      "dtypes: float64(4), int64(6), object(11)\n",
      "memory usage: 1.7+ MB\n"
     ]
    }
   ],
   "source": [
    "## checking the data type of each column, number of rows, columns, and missing data.\n",
    "df.info()"
   ]
  },
  {
   "cell_type": "code",
   "execution_count": 39,
   "metadata": {},
   "outputs": [
    {
     "data": {
      "text/plain": [
       "(10866, 21)"
      ]
     },
     "execution_count": 39,
     "metadata": {},
     "output_type": "execute_result"
    }
   ],
   "source": [
    "## Shape of the dataset\n",
    "df.shape"
   ]
  },
  {
   "cell_type": "code",
   "execution_count": 40,
   "metadata": {},
   "outputs": [
    {
     "data": {
      "text/html": [
       "<div>\n",
       "<style scoped>\n",
       "    .dataframe tbody tr th:only-of-type {\n",
       "        vertical-align: middle;\n",
       "    }\n",
       "\n",
       "    .dataframe tbody tr th {\n",
       "        vertical-align: top;\n",
       "    }\n",
       "\n",
       "    .dataframe thead th {\n",
       "        text-align: right;\n",
       "    }\n",
       "</style>\n",
       "<table border=\"1\" class=\"dataframe\">\n",
       "  <thead>\n",
       "    <tr style=\"text-align: right;\">\n",
       "      <th></th>\n",
       "      <th>id</th>\n",
       "      <th>popularity</th>\n",
       "      <th>budget</th>\n",
       "      <th>revenue</th>\n",
       "      <th>runtime</th>\n",
       "      <th>vote_count</th>\n",
       "      <th>vote_average</th>\n",
       "      <th>release_year</th>\n",
       "      <th>budget_adj</th>\n",
       "      <th>revenue_adj</th>\n",
       "    </tr>\n",
       "  </thead>\n",
       "  <tbody>\n",
       "    <tr>\n",
       "      <th>count</th>\n",
       "      <td>10866.000</td>\n",
       "      <td>10866.000</td>\n",
       "      <td>10866.000</td>\n",
       "      <td>10866.000</td>\n",
       "      <td>10866.000</td>\n",
       "      <td>10866.000</td>\n",
       "      <td>10866.000</td>\n",
       "      <td>10866.000</td>\n",
       "      <td>10866.000</td>\n",
       "      <td>10866.000</td>\n",
       "    </tr>\n",
       "    <tr>\n",
       "      <th>mean</th>\n",
       "      <td>66064.177</td>\n",
       "      <td>0.646</td>\n",
       "      <td>14625701.094</td>\n",
       "      <td>39823319.793</td>\n",
       "      <td>102.071</td>\n",
       "      <td>217.390</td>\n",
       "      <td>5.975</td>\n",
       "      <td>2001.323</td>\n",
       "      <td>17551039.823</td>\n",
       "      <td>51364363.253</td>\n",
       "    </tr>\n",
       "    <tr>\n",
       "      <th>std</th>\n",
       "      <td>92130.137</td>\n",
       "      <td>1.000</td>\n",
       "      <td>30913213.831</td>\n",
       "      <td>117003486.582</td>\n",
       "      <td>31.381</td>\n",
       "      <td>575.619</td>\n",
       "      <td>0.935</td>\n",
       "      <td>12.813</td>\n",
       "      <td>34306155.723</td>\n",
       "      <td>144632485.040</td>\n",
       "    </tr>\n",
       "    <tr>\n",
       "      <th>min</th>\n",
       "      <td>5.000</td>\n",
       "      <td>0.000</td>\n",
       "      <td>0.000</td>\n",
       "      <td>0.000</td>\n",
       "      <td>0.000</td>\n",
       "      <td>10.000</td>\n",
       "      <td>1.500</td>\n",
       "      <td>1960.000</td>\n",
       "      <td>0.000</td>\n",
       "      <td>0.000</td>\n",
       "    </tr>\n",
       "    <tr>\n",
       "      <th>25%</th>\n",
       "      <td>10596.250</td>\n",
       "      <td>0.208</td>\n",
       "      <td>0.000</td>\n",
       "      <td>0.000</td>\n",
       "      <td>90.000</td>\n",
       "      <td>17.000</td>\n",
       "      <td>5.400</td>\n",
       "      <td>1995.000</td>\n",
       "      <td>0.000</td>\n",
       "      <td>0.000</td>\n",
       "    </tr>\n",
       "    <tr>\n",
       "      <th>50%</th>\n",
       "      <td>20669.000</td>\n",
       "      <td>0.384</td>\n",
       "      <td>0.000</td>\n",
       "      <td>0.000</td>\n",
       "      <td>99.000</td>\n",
       "      <td>38.000</td>\n",
       "      <td>6.000</td>\n",
       "      <td>2006.000</td>\n",
       "      <td>0.000</td>\n",
       "      <td>0.000</td>\n",
       "    </tr>\n",
       "    <tr>\n",
       "      <th>75%</th>\n",
       "      <td>75610.000</td>\n",
       "      <td>0.714</td>\n",
       "      <td>15000000.000</td>\n",
       "      <td>24000000.000</td>\n",
       "      <td>111.000</td>\n",
       "      <td>145.750</td>\n",
       "      <td>6.600</td>\n",
       "      <td>2011.000</td>\n",
       "      <td>20853251.084</td>\n",
       "      <td>33697095.717</td>\n",
       "    </tr>\n",
       "    <tr>\n",
       "      <th>max</th>\n",
       "      <td>417859.000</td>\n",
       "      <td>32.986</td>\n",
       "      <td>425000000.000</td>\n",
       "      <td>2781505847.000</td>\n",
       "      <td>900.000</td>\n",
       "      <td>9767.000</td>\n",
       "      <td>9.200</td>\n",
       "      <td>2015.000</td>\n",
       "      <td>425000000.000</td>\n",
       "      <td>2827123750.412</td>\n",
       "    </tr>\n",
       "  </tbody>\n",
       "</table>\n",
       "</div>"
      ],
      "text/plain": [
       "              id  popularity        budget        revenue   runtime  \\\n",
       "count  10866.000   10866.000     10866.000      10866.000 10866.000   \n",
       "mean   66064.177       0.646  14625701.094   39823319.793   102.071   \n",
       "std    92130.137       1.000  30913213.831  117003486.582    31.381   \n",
       "min        5.000       0.000         0.000          0.000     0.000   \n",
       "25%    10596.250       0.208         0.000          0.000    90.000   \n",
       "50%    20669.000       0.384         0.000          0.000    99.000   \n",
       "75%    75610.000       0.714  15000000.000   24000000.000   111.000   \n",
       "max   417859.000      32.986 425000000.000 2781505847.000   900.000   \n",
       "\n",
       "       vote_count  vote_average  release_year    budget_adj    revenue_adj  \n",
       "count   10866.000     10866.000     10866.000     10866.000      10866.000  \n",
       "mean      217.390         5.975      2001.323  17551039.823   51364363.253  \n",
       "std       575.619         0.935        12.813  34306155.723  144632485.040  \n",
       "min        10.000         1.500      1960.000         0.000          0.000  \n",
       "25%        17.000         5.400      1995.000         0.000          0.000  \n",
       "50%        38.000         6.000      2006.000         0.000          0.000  \n",
       "75%       145.750         6.600      2011.000  20853251.084   33697095.717  \n",
       "max      9767.000         9.200      2015.000 425000000.000 2827123750.412  "
      ]
     },
     "execution_count": 40,
     "metadata": {},
     "output_type": "execute_result"
    }
   ],
   "source": [
    "#Descriptive statistics of the dataset's numerical values\n",
    "\n",
    "df.describe()"
   ]
  },
  {
   "cell_type": "markdown",
   "metadata": {},
   "source": [
    "\n",
    "### Data Cleaning\n",
    "\n",
    "\n",
    "Some of the columns are not relevant to answer to the questions of the investigation. Also, the release year is already part of the 'release_date' column.\n",
    "As for columns 'budget' and 'revenue', I rather keep the updated values 'budget_adj' and 'revenue_adj' to compare figures more accurately taking inflation into account.\n",
    "\n",
    "I will be dropping all the columns I mentioned to simplify the dataset:\n",
    " "
   ]
  },
  {
   "cell_type": "code",
   "execution_count": 41,
   "metadata": {},
   "outputs": [],
   "source": [
    "## Dropping columns not relevant to the investigation\n",
    "\n",
    "df.drop(['id', 'imdb_id','homepage','tagline','cast','overview', 'popularity','release_year', 'budget', 'revenue'], axis=1, inplace=True)"
   ]
  },
  {
   "cell_type": "markdown",
   "metadata": {},
   "source": [
    "Certain columns contain values separated by pipe characters. I'm going to replace them by commas:"
   ]
  },
  {
   "cell_type": "code",
   "execution_count": 42,
   "metadata": {
    "scrolled": true
   },
   "outputs": [
    {
     "data": {
      "text/html": [
       "<div>\n",
       "<style scoped>\n",
       "    .dataframe tbody tr th:only-of-type {\n",
       "        vertical-align: middle;\n",
       "    }\n",
       "\n",
       "    .dataframe tbody tr th {\n",
       "        vertical-align: top;\n",
       "    }\n",
       "\n",
       "    .dataframe thead th {\n",
       "        text-align: right;\n",
       "    }\n",
       "</style>\n",
       "<table border=\"1\" class=\"dataframe\">\n",
       "  <thead>\n",
       "    <tr style=\"text-align: right;\">\n",
       "      <th></th>\n",
       "      <th>original_title</th>\n",
       "      <th>director</th>\n",
       "      <th>keywords</th>\n",
       "      <th>runtime</th>\n",
       "      <th>genres</th>\n",
       "      <th>production_companies</th>\n",
       "      <th>release_date</th>\n",
       "      <th>vote_count</th>\n",
       "      <th>vote_average</th>\n",
       "      <th>budget_adj</th>\n",
       "      <th>revenue_adj</th>\n",
       "    </tr>\n",
       "  </thead>\n",
       "  <tbody>\n",
       "    <tr>\n",
       "      <th>0</th>\n",
       "      <td>Jurassic World</td>\n",
       "      <td>Colin Trevorrow</td>\n",
       "      <td>monster, dna, tyrannosaurus rex, velociraptor,...</td>\n",
       "      <td>124</td>\n",
       "      <td>Action, Adventure, Science Fiction, Thriller</td>\n",
       "      <td>Universal Studios, Amblin Entertainment, Legen...</td>\n",
       "      <td>6/9/15</td>\n",
       "      <td>5562</td>\n",
       "      <td>6.500</td>\n",
       "      <td>137999939.280</td>\n",
       "      <td>1392445892.524</td>\n",
       "    </tr>\n",
       "    <tr>\n",
       "      <th>1</th>\n",
       "      <td>Mad Max: Fury Road</td>\n",
       "      <td>George Miller</td>\n",
       "      <td>future, chase, post-apocalyptic, dystopia, aus...</td>\n",
       "      <td>120</td>\n",
       "      <td>Action, Adventure, Science Fiction, Thriller</td>\n",
       "      <td>Village Roadshow Pictures, Kennedy Miller Prod...</td>\n",
       "      <td>5/13/15</td>\n",
       "      <td>6185</td>\n",
       "      <td>7.100</td>\n",
       "      <td>137999939.280</td>\n",
       "      <td>348161292.489</td>\n",
       "    </tr>\n",
       "    <tr>\n",
       "      <th>2</th>\n",
       "      <td>Insurgent</td>\n",
       "      <td>Robert Schwentke</td>\n",
       "      <td>based on novel, revolution, dystopia, sequel, ...</td>\n",
       "      <td>119</td>\n",
       "      <td>Adventure, Science Fiction, Thriller</td>\n",
       "      <td>Summit Entertainment, Mandeville Films, Red Wa...</td>\n",
       "      <td>3/18/15</td>\n",
       "      <td>2480</td>\n",
       "      <td>6.300</td>\n",
       "      <td>101199955.472</td>\n",
       "      <td>271619025.408</td>\n",
       "    </tr>\n",
       "    <tr>\n",
       "      <th>3</th>\n",
       "      <td>Star Wars: The Force Awakens</td>\n",
       "      <td>J.J. Abrams</td>\n",
       "      <td>android, spaceship, jedi, space opera, 3d</td>\n",
       "      <td>136</td>\n",
       "      <td>Action, Adventure, Science Fiction, Fantasy</td>\n",
       "      <td>Lucasfilm, Truenorth Productions, Bad Robot</td>\n",
       "      <td>12/15/15</td>\n",
       "      <td>5292</td>\n",
       "      <td>7.500</td>\n",
       "      <td>183999919.040</td>\n",
       "      <td>1902723129.802</td>\n",
       "    </tr>\n",
       "    <tr>\n",
       "      <th>4</th>\n",
       "      <td>Furious 7</td>\n",
       "      <td>James Wan</td>\n",
       "      <td>car race, speed, revenge, suspense, car</td>\n",
       "      <td>137</td>\n",
       "      <td>Action, Crime, Thriller</td>\n",
       "      <td>Universal Pictures, Original Film, Media Right...</td>\n",
       "      <td>4/1/15</td>\n",
       "      <td>2947</td>\n",
       "      <td>7.300</td>\n",
       "      <td>174799923.088</td>\n",
       "      <td>1385748801.471</td>\n",
       "    </tr>\n",
       "  </tbody>\n",
       "</table>\n",
       "</div>"
      ],
      "text/plain": [
       "                 original_title          director  \\\n",
       "0                Jurassic World   Colin Trevorrow   \n",
       "1            Mad Max: Fury Road     George Miller   \n",
       "2                     Insurgent  Robert Schwentke   \n",
       "3  Star Wars: The Force Awakens       J.J. Abrams   \n",
       "4                     Furious 7         James Wan   \n",
       "\n",
       "                                            keywords  runtime  \\\n",
       "0  monster, dna, tyrannosaurus rex, velociraptor,...      124   \n",
       "1  future, chase, post-apocalyptic, dystopia, aus...      120   \n",
       "2  based on novel, revolution, dystopia, sequel, ...      119   \n",
       "3          android, spaceship, jedi, space opera, 3d      136   \n",
       "4            car race, speed, revenge, suspense, car      137   \n",
       "\n",
       "                                         genres  \\\n",
       "0  Action, Adventure, Science Fiction, Thriller   \n",
       "1  Action, Adventure, Science Fiction, Thriller   \n",
       "2          Adventure, Science Fiction, Thriller   \n",
       "3   Action, Adventure, Science Fiction, Fantasy   \n",
       "4                       Action, Crime, Thriller   \n",
       "\n",
       "                                production_companies release_date  vote_count  \\\n",
       "0  Universal Studios, Amblin Entertainment, Legen...       6/9/15        5562   \n",
       "1  Village Roadshow Pictures, Kennedy Miller Prod...      5/13/15        6185   \n",
       "2  Summit Entertainment, Mandeville Films, Red Wa...      3/18/15        2480   \n",
       "3        Lucasfilm, Truenorth Productions, Bad Robot     12/15/15        5292   \n",
       "4  Universal Pictures, Original Film, Media Right...       4/1/15        2947   \n",
       "\n",
       "   vote_average    budget_adj    revenue_adj  \n",
       "0         6.500 137999939.280 1392445892.524  \n",
       "1         7.100 137999939.280  348161292.489  \n",
       "2         6.300 101199955.472  271619025.408  \n",
       "3         7.500 183999919.040 1902723129.802  \n",
       "4         7.300 174799923.088 1385748801.471  "
      ]
     },
     "execution_count": 42,
     "metadata": {},
     "output_type": "execute_result"
    }
   ],
   "source": [
    "## Replacing pipe characters by commas using .replace method. I found \n",
    "## information about the best way to do it in a blog post of stackoverflow.\n",
    "\n",
    "df=df.replace('\\|', ', ', regex=True)\n",
    "\n",
    "## Making sure it worked by having a glance to the first few lines of the dataset\n",
    "df.head()"
   ]
  },
  {
   "cell_type": "markdown",
   "metadata": {},
   "source": [
    "As it's not easy to interpret dollar figures in scientific notation, I'm going to convert the concerned columns into float formatting:"
   ]
  },
  {
   "cell_type": "code",
   "execution_count": 43,
   "metadata": {},
   "outputs": [
    {
     "data": {
      "text/html": [
       "<div>\n",
       "<style scoped>\n",
       "    .dataframe tbody tr th:only-of-type {\n",
       "        vertical-align: middle;\n",
       "    }\n",
       "\n",
       "    .dataframe tbody tr th {\n",
       "        vertical-align: top;\n",
       "    }\n",
       "\n",
       "    .dataframe thead th {\n",
       "        text-align: right;\n",
       "    }\n",
       "</style>\n",
       "<table border=\"1\" class=\"dataframe\">\n",
       "  <thead>\n",
       "    <tr style=\"text-align: right;\">\n",
       "      <th></th>\n",
       "      <th>original_title</th>\n",
       "      <th>director</th>\n",
       "      <th>keywords</th>\n",
       "      <th>runtime</th>\n",
       "      <th>genres</th>\n",
       "      <th>production_companies</th>\n",
       "      <th>release_date</th>\n",
       "      <th>vote_count</th>\n",
       "      <th>vote_average</th>\n",
       "      <th>budget_adj</th>\n",
       "      <th>revenue_adj</th>\n",
       "    </tr>\n",
       "  </thead>\n",
       "  <tbody>\n",
       "    <tr>\n",
       "      <th>0</th>\n",
       "      <td>Jurassic World</td>\n",
       "      <td>Colin Trevorrow</td>\n",
       "      <td>monster, dna, tyrannosaurus rex, velociraptor,...</td>\n",
       "      <td>124</td>\n",
       "      <td>Action, Adventure, Science Fiction, Thriller</td>\n",
       "      <td>Universal Studios, Amblin Entertainment, Legen...</td>\n",
       "      <td>6/9/15</td>\n",
       "      <td>5562</td>\n",
       "      <td>6.500</td>\n",
       "      <td>137999939.280</td>\n",
       "      <td>1392445892.524</td>\n",
       "    </tr>\n",
       "    <tr>\n",
       "      <th>1</th>\n",
       "      <td>Mad Max: Fury Road</td>\n",
       "      <td>George Miller</td>\n",
       "      <td>future, chase, post-apocalyptic, dystopia, aus...</td>\n",
       "      <td>120</td>\n",
       "      <td>Action, Adventure, Science Fiction, Thriller</td>\n",
       "      <td>Village Roadshow Pictures, Kennedy Miller Prod...</td>\n",
       "      <td>5/13/15</td>\n",
       "      <td>6185</td>\n",
       "      <td>7.100</td>\n",
       "      <td>137999939.280</td>\n",
       "      <td>348161292.489</td>\n",
       "    </tr>\n",
       "    <tr>\n",
       "      <th>2</th>\n",
       "      <td>Insurgent</td>\n",
       "      <td>Robert Schwentke</td>\n",
       "      <td>based on novel, revolution, dystopia, sequel, ...</td>\n",
       "      <td>119</td>\n",
       "      <td>Adventure, Science Fiction, Thriller</td>\n",
       "      <td>Summit Entertainment, Mandeville Films, Red Wa...</td>\n",
       "      <td>3/18/15</td>\n",
       "      <td>2480</td>\n",
       "      <td>6.300</td>\n",
       "      <td>101199955.472</td>\n",
       "      <td>271619025.408</td>\n",
       "    </tr>\n",
       "    <tr>\n",
       "      <th>3</th>\n",
       "      <td>Star Wars: The Force Awakens</td>\n",
       "      <td>J.J. Abrams</td>\n",
       "      <td>android, spaceship, jedi, space opera, 3d</td>\n",
       "      <td>136</td>\n",
       "      <td>Action, Adventure, Science Fiction, Fantasy</td>\n",
       "      <td>Lucasfilm, Truenorth Productions, Bad Robot</td>\n",
       "      <td>12/15/15</td>\n",
       "      <td>5292</td>\n",
       "      <td>7.500</td>\n",
       "      <td>183999919.040</td>\n",
       "      <td>1902723129.802</td>\n",
       "    </tr>\n",
       "    <tr>\n",
       "      <th>4</th>\n",
       "      <td>Furious 7</td>\n",
       "      <td>James Wan</td>\n",
       "      <td>car race, speed, revenge, suspense, car</td>\n",
       "      <td>137</td>\n",
       "      <td>Action, Crime, Thriller</td>\n",
       "      <td>Universal Pictures, Original Film, Media Right...</td>\n",
       "      <td>4/1/15</td>\n",
       "      <td>2947</td>\n",
       "      <td>7.300</td>\n",
       "      <td>174799923.088</td>\n",
       "      <td>1385748801.471</td>\n",
       "    </tr>\n",
       "  </tbody>\n",
       "</table>\n",
       "</div>"
      ],
      "text/plain": [
       "                 original_title          director  \\\n",
       "0                Jurassic World   Colin Trevorrow   \n",
       "1            Mad Max: Fury Road     George Miller   \n",
       "2                     Insurgent  Robert Schwentke   \n",
       "3  Star Wars: The Force Awakens       J.J. Abrams   \n",
       "4                     Furious 7         James Wan   \n",
       "\n",
       "                                            keywords  runtime  \\\n",
       "0  monster, dna, tyrannosaurus rex, velociraptor,...      124   \n",
       "1  future, chase, post-apocalyptic, dystopia, aus...      120   \n",
       "2  based on novel, revolution, dystopia, sequel, ...      119   \n",
       "3          android, spaceship, jedi, space opera, 3d      136   \n",
       "4            car race, speed, revenge, suspense, car      137   \n",
       "\n",
       "                                         genres  \\\n",
       "0  Action, Adventure, Science Fiction, Thriller   \n",
       "1  Action, Adventure, Science Fiction, Thriller   \n",
       "2          Adventure, Science Fiction, Thriller   \n",
       "3   Action, Adventure, Science Fiction, Fantasy   \n",
       "4                       Action, Crime, Thriller   \n",
       "\n",
       "                                production_companies release_date  vote_count  \\\n",
       "0  Universal Studios, Amblin Entertainment, Legen...       6/9/15        5562   \n",
       "1  Village Roadshow Pictures, Kennedy Miller Prod...      5/13/15        6185   \n",
       "2  Summit Entertainment, Mandeville Films, Red Wa...      3/18/15        2480   \n",
       "3        Lucasfilm, Truenorth Productions, Bad Robot     12/15/15        5292   \n",
       "4  Universal Pictures, Original Film, Media Right...       4/1/15        2947   \n",
       "\n",
       "   vote_average    budget_adj    revenue_adj  \n",
       "0         6.500 137999939.280 1392445892.524  \n",
       "1         7.100 137999939.280  348161292.489  \n",
       "2         6.300 101199955.472  271619025.408  \n",
       "3         7.500 183999919.040 1902723129.802  \n",
       "4         7.300 174799923.088 1385748801.471  "
      ]
     },
     "execution_count": 43,
     "metadata": {},
     "output_type": "execute_result"
    }
   ],
   "source": [
    "## Converting scientific notation into float formatting for readibility\n",
    "## I found information on the best way of formatting the scientific notation \n",
    "## on a post of stackoverflow.com\n",
    "\n",
    "pd.set_option('display.float_format', lambda x: '%.3f' % x)\n",
    "df.head()"
   ]
  },
  {
   "cell_type": "markdown",
   "metadata": {},
   "source": [
    "I'm going to check out the dataset's composition, data types and null values after the modifications I've just made:"
   ]
  },
  {
   "cell_type": "code",
   "execution_count": 44,
   "metadata": {
    "scrolled": true
   },
   "outputs": [
    {
     "name": "stdout",
     "output_type": "stream",
     "text": [
      "<class 'pandas.core.frame.DataFrame'>\n",
      "RangeIndex: 10866 entries, 0 to 10865\n",
      "Data columns (total 11 columns):\n",
      "original_title          10866 non-null object\n",
      "director                10822 non-null object\n",
      "keywords                9373 non-null object\n",
      "runtime                 10866 non-null int64\n",
      "genres                  10843 non-null object\n",
      "production_companies    9836 non-null object\n",
      "release_date            10866 non-null object\n",
      "vote_count              10866 non-null int64\n",
      "vote_average            10866 non-null float64\n",
      "budget_adj              10866 non-null float64\n",
      "revenue_adj             10866 non-null float64\n",
      "dtypes: float64(3), int64(2), object(6)\n",
      "memory usage: 933.9+ KB\n"
     ]
    }
   ],
   "source": [
    "df.info()"
   ]
  },
  {
   "cell_type": "markdown",
   "metadata": {},
   "source": [
    "Let's get some insight into the distribution of the values of the numerical values:"
   ]
  },
  {
   "cell_type": "code",
   "execution_count": 45,
   "metadata": {
    "scrolled": true
   },
   "outputs": [
    {
     "data": {
      "image/png": "[encoded data removed]",
      "text/plain": [
       "<matplotlib.figure.Figure at 0x7fe5a3cc4080>"
      ]
     },
     "metadata": {
      "needs_background": "light"
     },
     "output_type": "display_data"
    }
   ],
   "source": [
    "# Histogram of all numerical columns\n",
    "df.hist(figsize=(10,8));"
   ]
  },
  {
   "cell_type": "markdown",
   "metadata": {},
   "source": [
    "As we can see in the histograms above, most of them are skewed to the right."
   ]
  },
  {
   "cell_type": "markdown",
   "metadata": {},
   "source": [
    "  "
   ]
  },
  {
   "cell_type": "markdown",
   "metadata": {},
   "source": [
    "There are over 1000 null values in the column 'production_companies'. Before dropping so many lines I'd like to make sure I'm not dismissing important information by doing so. Therefore, I investigate the composition and the distribution of the rows with a 'production_company' null value:"
   ]
  },
  {
   "cell_type": "code",
   "execution_count": 46,
   "metadata": {},
   "outputs": [
    {
     "data": {
      "image/png": "[encoded data removed]",
      "text/plain": [
       "<matplotlib.figure.Figure at 0x7fe5a26019e8>"
      ]
     },
     "metadata": {
      "needs_background": "light"
     },
     "output_type": "display_data"
    }
   ],
   "source": [
    "df[df.production_companies.isnull()].hist();"
   ]
  },
  {
   "cell_type": "markdown",
   "metadata": {},
   "source": [
    "As we can see, for most of the other columns, the values' distribution is similar to the distribution of the whole dataset. The main difference is in the vote count(most movies with null value for 'production_companies' got very few votes - below 50). \n",
    "Therefore I think we can drop rows with null value in 'production_companies' without losing relevant data together with the rest of null values."
   ]
  },
  {
   "cell_type": "code",
   "execution_count": 47,
   "metadata": {},
   "outputs": [
    {
     "name": "stdout",
     "output_type": "stream",
     "text": [
      "<class 'pandas.core.frame.DataFrame'>\n",
      "Int64Index: 8692 entries, 0 to 10865\n",
      "Data columns (total 11 columns):\n",
      "original_title          8692 non-null object\n",
      "director                8692 non-null object\n",
      "keywords                8692 non-null object\n",
      "runtime                 8692 non-null int64\n",
      "genres                  8692 non-null object\n",
      "production_companies    8692 non-null object\n",
      "release_date            8692 non-null object\n",
      "vote_count              8692 non-null int64\n",
      "vote_average            8692 non-null float64\n",
      "budget_adj              8692 non-null float64\n",
      "revenue_adj             8692 non-null float64\n",
      "dtypes: float64(3), int64(2), object(6)\n",
      "memory usage: 814.9+ KB\n"
     ]
    }
   ],
   "source": [
    "## Dropping all null values\n",
    "df.dropna(inplace=True)\n",
    "df.info()"
   ]
  },
  {
   "cell_type": "markdown",
   "metadata": {},
   "source": [
    "There are many values equal to zero in columns revenue_adj and budget_adj:"
   ]
  },
  {
   "cell_type": "code",
   "execution_count": 14,
   "metadata": {},
   "outputs": [
    {
     "data": {
      "text/plain": [
       "4153"
      ]
     },
     "execution_count": 14,
     "metadata": {},
     "output_type": "execute_result"
    }
   ],
   "source": [
    "## Creating a function to check how many null values are in a column and \n",
    "##applying it to the column 'revenue_adj'\n",
    "\n",
    "def null_shape(column):\n",
    "    return (df[column==0].shape[0])\n",
    "    \n",
    "\n",
    "null_shape(df['revenue_adj'])"
   ]
  },
  {
   "cell_type": "code",
   "execution_count": 15,
   "metadata": {},
   "outputs": [
    {
     "data": {
      "text/plain": [
       "3958"
      ]
     },
     "execution_count": 15,
     "metadata": {},
     "output_type": "execute_result"
    }
   ],
   "source": [
    "## I apply the function to column 'budget_adj'\n",
    "null_shape(df['budget_adj'])"
   ]
  },
  {
   "cell_type": "markdown",
   "metadata": {},
   "source": [
    "I'm going to delete all the rows where either 'revenue_adj' or 'budget_adj' are equal to zero:"
   ]
  },
  {
   "cell_type": "code",
   "execution_count": 48,
   "metadata": {},
   "outputs": [],
   "source": [
    "df=df[df.revenue_adj!=0]\n",
    "df=df[df.budget_adj!=0]"
   ]
  },
  {
   "cell_type": "markdown",
   "metadata": {},
   "source": [
    "I veryfy that there are no zero values in either column:"
   ]
  },
  {
   "cell_type": "code",
   "execution_count": 17,
   "metadata": {},
   "outputs": [
    {
     "data": {
      "text/plain": [
       "0"
      ]
     },
     "execution_count": 17,
     "metadata": {},
     "output_type": "execute_result"
    }
   ],
   "source": [
    "null_shape(df['revenue_adj'])"
   ]
  },
  {
   "cell_type": "code",
   "execution_count": 18,
   "metadata": {},
   "outputs": [
    {
     "data": {
      "text/plain": [
       "0"
      ]
     },
     "execution_count": 18,
     "metadata": {},
     "output_type": "execute_result"
    }
   ],
   "source": [
    "null_shape(df['budget_adj'])"
   ]
  },
  {
   "cell_type": "markdown",
   "metadata": {},
   "source": [
    "I'm going to check if there is any duplicated values in the dataset. In the affirmative, I will drop the duplicated row and check again that there are no duplicates left:"
   ]
  },
  {
   "cell_type": "code",
   "execution_count": 19,
   "metadata": {},
   "outputs": [
    {
     "data": {
      "text/plain": [
       "1"
      ]
     },
     "execution_count": 19,
     "metadata": {},
     "output_type": "execute_result"
    }
   ],
   "source": [
    "## sum of all duplicate values in the dataset\n",
    "sum(df.duplicated())"
   ]
  },
  {
   "cell_type": "code",
   "execution_count": 20,
   "metadata": {},
   "outputs": [
    {
     "data": {
      "text/plain": [
       "0"
      ]
     },
     "execution_count": 20,
     "metadata": {},
     "output_type": "execute_result"
    }
   ],
   "source": [
    "##dropping the duplicate value and checking out it worked \n",
    "df=df.drop_duplicates()\n",
    "sum(df.duplicated())"
   ]
  },
  {
   "cell_type": "markdown",
   "metadata": {},
   "source": [
    "I'm going to change the date format of column \"release_date\" to datetime:"
   ]
  },
  {
   "cell_type": "code",
   "execution_count": 21,
   "metadata": {
    "scrolled": true
   },
   "outputs": [
    {
     "data": {
      "text/html": [
       "<div>\n",
       "<style scoped>\n",
       "    .dataframe tbody tr th:only-of-type {\n",
       "        vertical-align: middle;\n",
       "    }\n",
       "\n",
       "    .dataframe tbody tr th {\n",
       "        vertical-align: top;\n",
       "    }\n",
       "\n",
       "    .dataframe thead th {\n",
       "        text-align: right;\n",
       "    }\n",
       "</style>\n",
       "<table border=\"1\" class=\"dataframe\">\n",
       "  <thead>\n",
       "    <tr style=\"text-align: right;\">\n",
       "      <th></th>\n",
       "      <th>original_title</th>\n",
       "      <th>director</th>\n",
       "      <th>keywords</th>\n",
       "      <th>runtime</th>\n",
       "      <th>genres</th>\n",
       "      <th>production_companies</th>\n",
       "      <th>release_date</th>\n",
       "      <th>vote_count</th>\n",
       "      <th>vote_average</th>\n",
       "      <th>budget_adj</th>\n",
       "      <th>revenue_adj</th>\n",
       "    </tr>\n",
       "  </thead>\n",
       "  <tbody>\n",
       "    <tr>\n",
       "      <th>0</th>\n",
       "      <td>Jurassic World</td>\n",
       "      <td>Colin Trevorrow</td>\n",
       "      <td>monster, dna, tyrannosaurus rex, velociraptor,...</td>\n",
       "      <td>124</td>\n",
       "      <td>Action, Adventure, Science Fiction, Thriller</td>\n",
       "      <td>Universal Studios, Amblin Entertainment, Legen...</td>\n",
       "      <td>2015-06-09</td>\n",
       "      <td>5562</td>\n",
       "      <td>6.500</td>\n",
       "      <td>137999939.280</td>\n",
       "      <td>1392445892.524</td>\n",
       "    </tr>\n",
       "    <tr>\n",
       "      <th>1</th>\n",
       "      <td>Mad Max: Fury Road</td>\n",
       "      <td>George Miller</td>\n",
       "      <td>future, chase, post-apocalyptic, dystopia, aus...</td>\n",
       "      <td>120</td>\n",
       "      <td>Action, Adventure, Science Fiction, Thriller</td>\n",
       "      <td>Village Roadshow Pictures, Kennedy Miller Prod...</td>\n",
       "      <td>2015-05-13</td>\n",
       "      <td>6185</td>\n",
       "      <td>7.100</td>\n",
       "      <td>137999939.280</td>\n",
       "      <td>348161292.489</td>\n",
       "    </tr>\n",
       "    <tr>\n",
       "      <th>2</th>\n",
       "      <td>Insurgent</td>\n",
       "      <td>Robert Schwentke</td>\n",
       "      <td>based on novel, revolution, dystopia, sequel, ...</td>\n",
       "      <td>119</td>\n",
       "      <td>Adventure, Science Fiction, Thriller</td>\n",
       "      <td>Summit Entertainment, Mandeville Films, Red Wa...</td>\n",
       "      <td>2015-03-18</td>\n",
       "      <td>2480</td>\n",
       "      <td>6.300</td>\n",
       "      <td>101199955.472</td>\n",
       "      <td>271619025.408</td>\n",
       "    </tr>\n",
       "    <tr>\n",
       "      <th>3</th>\n",
       "      <td>Star Wars: The Force Awakens</td>\n",
       "      <td>J.J. Abrams</td>\n",
       "      <td>android, spaceship, jedi, space opera, 3d</td>\n",
       "      <td>136</td>\n",
       "      <td>Action, Adventure, Science Fiction, Fantasy</td>\n",
       "      <td>Lucasfilm, Truenorth Productions, Bad Robot</td>\n",
       "      <td>2015-12-15</td>\n",
       "      <td>5292</td>\n",
       "      <td>7.500</td>\n",
       "      <td>183999919.040</td>\n",
       "      <td>1902723129.802</td>\n",
       "    </tr>\n",
       "    <tr>\n",
       "      <th>4</th>\n",
       "      <td>Furious 7</td>\n",
       "      <td>James Wan</td>\n",
       "      <td>car race, speed, revenge, suspense, car</td>\n",
       "      <td>137</td>\n",
       "      <td>Action, Crime, Thriller</td>\n",
       "      <td>Universal Pictures, Original Film, Media Right...</td>\n",
       "      <td>2015-04-01</td>\n",
       "      <td>2947</td>\n",
       "      <td>7.300</td>\n",
       "      <td>174799923.088</td>\n",
       "      <td>1385748801.471</td>\n",
       "    </tr>\n",
       "  </tbody>\n",
       "</table>\n",
       "</div>"
      ],
      "text/plain": [
       "                 original_title          director  \\\n",
       "0                Jurassic World   Colin Trevorrow   \n",
       "1            Mad Max: Fury Road     George Miller   \n",
       "2                     Insurgent  Robert Schwentke   \n",
       "3  Star Wars: The Force Awakens       J.J. Abrams   \n",
       "4                     Furious 7         James Wan   \n",
       "\n",
       "                                            keywords  runtime  \\\n",
       "0  monster, dna, tyrannosaurus rex, velociraptor,...      124   \n",
       "1  future, chase, post-apocalyptic, dystopia, aus...      120   \n",
       "2  based on novel, revolution, dystopia, sequel, ...      119   \n",
       "3          android, spaceship, jedi, space opera, 3d      136   \n",
       "4            car race, speed, revenge, suspense, car      137   \n",
       "\n",
       "                                         genres  \\\n",
       "0  Action, Adventure, Science Fiction, Thriller   \n",
       "1  Action, Adventure, Science Fiction, Thriller   \n",
       "2          Adventure, Science Fiction, Thriller   \n",
       "3   Action, Adventure, Science Fiction, Fantasy   \n",
       "4                       Action, Crime, Thriller   \n",
       "\n",
       "                                production_companies release_date  vote_count  \\\n",
       "0  Universal Studios, Amblin Entertainment, Legen...   2015-06-09        5562   \n",
       "1  Village Roadshow Pictures, Kennedy Miller Prod...   2015-05-13        6185   \n",
       "2  Summit Entertainment, Mandeville Films, Red Wa...   2015-03-18        2480   \n",
       "3        Lucasfilm, Truenorth Productions, Bad Robot   2015-12-15        5292   \n",
       "4  Universal Pictures, Original Film, Media Right...   2015-04-01        2947   \n",
       "\n",
       "   vote_average    budget_adj    revenue_adj  \n",
       "0         6.500 137999939.280 1392445892.524  \n",
       "1         7.100 137999939.280  348161292.489  \n",
       "2         6.300 101199955.472  271619025.408  \n",
       "3         7.500 183999919.040 1902723129.802  \n",
       "4         7.300 174799923.088 1385748801.471  "
      ]
     },
     "execution_count": 21,
     "metadata": {},
     "output_type": "execute_result"
    }
   ],
   "source": [
    "##Changing date type of 'release_date' to date format and checking the result \n",
    "##by printing first few rows of the df\n",
    "df['release_date']=pd.to_datetime(df['release_date'])\n",
    "df.head()"
   ]
  },
  {
   "cell_type": "markdown",
   "metadata": {},
   "source": [
    "As we can see below there are many less rows than what we started with. Nevertheless it's a more homogenous and consistent dataset than the original one, without any duplicates, missing values or zeros."
   ]
  },
  {
   "cell_type": "code",
   "execution_count": 22,
   "metadata": {},
   "outputs": [
    {
     "name": "stdout",
     "output_type": "stream",
     "text": [
      "<class 'pandas.core.frame.DataFrame'>\n",
      "Int64Index: 3679 entries, 0 to 10848\n",
      "Data columns (total 11 columns):\n",
      "original_title          3679 non-null object\n",
      "director                3679 non-null object\n",
      "keywords                3679 non-null object\n",
      "runtime                 3679 non-null int64\n",
      "genres                  3679 non-null object\n",
      "production_companies    3679 non-null object\n",
      "release_date            3679 non-null datetime64[ns]\n",
      "vote_count              3679 non-null int64\n",
      "vote_average            3679 non-null float64\n",
      "budget_adj              3679 non-null float64\n",
      "revenue_adj             3679 non-null float64\n",
      "dtypes: datetime64[ns](1), float64(3), int64(2), object(5)\n",
      "memory usage: 344.9+ KB\n"
     ]
    }
   ],
   "source": [
    "## Composition of the dataset and datatypes of the resulting dataframe\n",
    "df.info()"
   ]
  },
  {
   "cell_type": "code",
   "execution_count": 23,
   "metadata": {},
   "outputs": [
    {
     "data": {
      "text/html": [
       "<div>\n",
       "<style scoped>\n",
       "    .dataframe tbody tr th:only-of-type {\n",
       "        vertical-align: middle;\n",
       "    }\n",
       "\n",
       "    .dataframe tbody tr th {\n",
       "        vertical-align: top;\n",
       "    }\n",
       "\n",
       "    .dataframe thead th {\n",
       "        text-align: right;\n",
       "    }\n",
       "</style>\n",
       "<table border=\"1\" class=\"dataframe\">\n",
       "  <thead>\n",
       "    <tr style=\"text-align: right;\">\n",
       "      <th></th>\n",
       "      <th>runtime</th>\n",
       "      <th>vote_count</th>\n",
       "      <th>vote_average</th>\n",
       "      <th>budget_adj</th>\n",
       "      <th>revenue_adj</th>\n",
       "    </tr>\n",
       "  </thead>\n",
       "  <tbody>\n",
       "    <tr>\n",
       "      <th>count</th>\n",
       "      <td>3679.000</td>\n",
       "      <td>3679.000</td>\n",
       "      <td>3679.000</td>\n",
       "      <td>3679.000</td>\n",
       "      <td>3679.000</td>\n",
       "    </tr>\n",
       "    <tr>\n",
       "      <th>mean</th>\n",
       "      <td>109.561</td>\n",
       "      <td>547.413</td>\n",
       "      <td>6.182</td>\n",
       "      <td>45364250.989</td>\n",
       "      <td>142011525.137</td>\n",
       "    </tr>\n",
       "    <tr>\n",
       "      <th>std</th>\n",
       "      <td>19.855</td>\n",
       "      <td>894.797</td>\n",
       "      <td>0.790</td>\n",
       "      <td>45191098.534</td>\n",
       "      <td>219481097.448</td>\n",
       "    </tr>\n",
       "    <tr>\n",
       "      <th>min</th>\n",
       "      <td>26.000</td>\n",
       "      <td>10.000</td>\n",
       "      <td>2.200</td>\n",
       "      <td>0.969</td>\n",
       "      <td>2.862</td>\n",
       "    </tr>\n",
       "    <tr>\n",
       "      <th>25%</th>\n",
       "      <td>96.000</td>\n",
       "      <td>78.000</td>\n",
       "      <td>5.700</td>\n",
       "      <td>13816365.762</td>\n",
       "      <td>20375176.800</td>\n",
       "    </tr>\n",
       "    <tr>\n",
       "      <th>50%</th>\n",
       "      <td>106.000</td>\n",
       "      <td>218.000</td>\n",
       "      <td>6.200</td>\n",
       "      <td>31020737.363</td>\n",
       "      <td>65464324.000</td>\n",
       "    </tr>\n",
       "    <tr>\n",
       "      <th>75%</th>\n",
       "      <td>120.000</td>\n",
       "      <td>595.000</td>\n",
       "      <td>6.700</td>\n",
       "      <td>62130112.856</td>\n",
       "      <td>170436409.521</td>\n",
       "    </tr>\n",
       "    <tr>\n",
       "      <th>max</th>\n",
       "      <td>338.000</td>\n",
       "      <td>9767.000</td>\n",
       "      <td>8.400</td>\n",
       "      <td>425000000.000</td>\n",
       "      <td>2827123750.412</td>\n",
       "    </tr>\n",
       "  </tbody>\n",
       "</table>\n",
       "</div>"
      ],
      "text/plain": [
       "       runtime  vote_count  vote_average    budget_adj    revenue_adj\n",
       "count 3679.000    3679.000      3679.000      3679.000       3679.000\n",
       "mean   109.561     547.413         6.182  45364250.989  142011525.137\n",
       "std     19.855     894.797         0.790  45191098.534  219481097.448\n",
       "min     26.000      10.000         2.200         0.969          2.862\n",
       "25%     96.000      78.000         5.700  13816365.762   20375176.800\n",
       "50%    106.000     218.000         6.200  31020737.363   65464324.000\n",
       "75%    120.000     595.000         6.700  62130112.856  170436409.521\n",
       "max    338.000    9767.000         8.400 425000000.000 2827123750.412"
      ]
     },
     "execution_count": 23,
     "metadata": {},
     "output_type": "execute_result"
    }
   ],
   "source": [
    "## Looking up the descriptive statistics of the df\n",
    "df.describe()"
   ]
  },
  {
   "cell_type": "markdown",
   "metadata": {},
   "source": [
    "Minimum value of 'budget_adj' column is very low. I'm sorting the column values to check if there are more values that seem to low for the production of a film."
   ]
  },
  {
   "cell_type": "code",
   "execution_count": 24,
   "metadata": {},
   "outputs": [
    {
     "data": {
      "text/html": [
       "<div>\n",
       "<style scoped>\n",
       "    .dataframe tbody tr th:only-of-type {\n",
       "        vertical-align: middle;\n",
       "    }\n",
       "\n",
       "    .dataframe tbody tr th {\n",
       "        vertical-align: top;\n",
       "    }\n",
       "\n",
       "    .dataframe thead th {\n",
       "        text-align: right;\n",
       "    }\n",
       "</style>\n",
       "<table border=\"1\" class=\"dataframe\">\n",
       "  <thead>\n",
       "    <tr style=\"text-align: right;\">\n",
       "      <th></th>\n",
       "      <th>original_title</th>\n",
       "      <th>director</th>\n",
       "      <th>keywords</th>\n",
       "      <th>runtime</th>\n",
       "      <th>genres</th>\n",
       "      <th>production_companies</th>\n",
       "      <th>release_date</th>\n",
       "      <th>vote_count</th>\n",
       "      <th>vote_average</th>\n",
       "      <th>budget_adj</th>\n",
       "      <th>revenue_adj</th>\n",
       "    </tr>\n",
       "  </thead>\n",
       "  <tbody>\n",
       "    <tr>\n",
       "      <th>3581</th>\n",
       "      <td>Love, Wedding, Marriage</td>\n",
       "      <td>Dermot Mulroney</td>\n",
       "      <td>wedding vows, marriage, love</td>\n",
       "      <td>90</td>\n",
       "      <td>Comedy, Romance</td>\n",
       "      <td>120dB Films, Scion Films, Voodoo Production Se...</td>\n",
       "      <td>2011-06-03</td>\n",
       "      <td>55</td>\n",
       "      <td>5.300</td>\n",
       "      <td>0.969</td>\n",
       "      <td>1335.831</td>\n",
       "    </tr>\n",
       "    <tr>\n",
       "      <th>2618</th>\n",
       "      <td>Lost &amp; Found</td>\n",
       "      <td>Jeff Pollack</td>\n",
       "      <td>restaurant, neighbor, dog, ring</td>\n",
       "      <td>95</td>\n",
       "      <td>Comedy, Romance</td>\n",
       "      <td>Alcon Entertainment, Dinamo Entertainment</td>\n",
       "      <td>1999-04-23</td>\n",
       "      <td>14</td>\n",
       "      <td>4.800</td>\n",
       "      <td>1.309</td>\n",
       "      <td>130.905</td>\n",
       "    </tr>\n",
       "    <tr>\n",
       "      <th>2398</th>\n",
       "      <td>Boy</td>\n",
       "      <td>Taika Waititi</td>\n",
       "      <td>new zealand, maori, farm, goat, duringcreditss...</td>\n",
       "      <td>87</td>\n",
       "      <td>Drama, Comedy</td>\n",
       "      <td>New Zealand Film Commission, Unison Films, Whe...</td>\n",
       "      <td>2010-02-14</td>\n",
       "      <td>26</td>\n",
       "      <td>7.300</td>\n",
       "      <td>3.000</td>\n",
       "      <td>43.000</td>\n",
       "    </tr>\n",
       "    <tr>\n",
       "      <th>8944</th>\n",
       "      <td>Death Wish 2</td>\n",
       "      <td>Michael Winner</td>\n",
       "      <td>rape, detective, drug traffic, vigilante, revenge</td>\n",
       "      <td>88</td>\n",
       "      <td>Action, Crime, Thriller</td>\n",
       "      <td>Cannon Films</td>\n",
       "      <td>1982-02-20</td>\n",
       "      <td>27</td>\n",
       "      <td>5.600</td>\n",
       "      <td>4.519</td>\n",
       "      <td>36.154</td>\n",
       "    </tr>\n",
       "    <tr>\n",
       "      <th>10050</th>\n",
       "      <td>Tales from the Darkside: The Movie</td>\n",
       "      <td>John Harrison</td>\n",
       "      <td>anthology, based on tv series, darkside, antho...</td>\n",
       "      <td>93</td>\n",
       "      <td>Fantasy, Horror, Comedy</td>\n",
       "      <td>Paramount Pictures, Laurel Productions, Darksi...</td>\n",
       "      <td>1990-05-03</td>\n",
       "      <td>37</td>\n",
       "      <td>5.800</td>\n",
       "      <td>5.007</td>\n",
       "      <td>26.702</td>\n",
       "    </tr>\n",
       "    <tr>\n",
       "      <th>8235</th>\n",
       "      <td>Tales from the Hood</td>\n",
       "      <td>Rusty Cundieff</td>\n",
       "      <td>prison, ghetto, anthology, evil doll, murder</td>\n",
       "      <td>98</td>\n",
       "      <td>Horror, Thriller</td>\n",
       "      <td>Savoy Pictures</td>\n",
       "      <td>1995-05-24</td>\n",
       "      <td>13</td>\n",
       "      <td>5.100</td>\n",
       "      <td>8.586</td>\n",
       "      <td>15.741</td>\n",
       "    </tr>\n",
       "    <tr>\n",
       "      <th>5852</th>\n",
       "      <td>Hross Ã­ oss</td>\n",
       "      <td>Benedikt Erlingsson</td>\n",
       "      <td>horse, snow storm, icelandic</td>\n",
       "      <td>85</td>\n",
       "      <td>Drama, Romance, Comedy</td>\n",
       "      <td>Filmhuset Gruppen, Leiknar Myndir</td>\n",
       "      <td>2013-08-30</td>\n",
       "      <td>11</td>\n",
       "      <td>6.500</td>\n",
       "      <td>9.360</td>\n",
       "      <td>10.296</td>\n",
       "    </tr>\n",
       "    <tr>\n",
       "      <th>8125</th>\n",
       "      <td>The Prophecy</td>\n",
       "      <td>Gregory Widen</td>\n",
       "      <td>angel, archangel gabriel, menschheit</td>\n",
       "      <td>98</td>\n",
       "      <td>Fantasy, Horror, Thriller</td>\n",
       "      <td>Dimension Films</td>\n",
       "      <td>1995-09-01</td>\n",
       "      <td>54</td>\n",
       "      <td>5.500</td>\n",
       "      <td>11.448</td>\n",
       "      <td>22.895</td>\n",
       "    </tr>\n",
       "    <tr>\n",
       "      <th>10297</th>\n",
       "      <td>National Lampoon's Loaded Weapon 1</td>\n",
       "      <td>Gene Quintano</td>\n",
       "      <td>cocaine, police, spoof, los angeles</td>\n",
       "      <td>84</td>\n",
       "      <td>Comedy</td>\n",
       "      <td>New Line Cinema</td>\n",
       "      <td>1993-02-04</td>\n",
       "      <td>72</td>\n",
       "      <td>5.500</td>\n",
       "      <td>12.076</td>\n",
       "      <td>40.756</td>\n",
       "    </tr>\n",
       "    <tr>\n",
       "      <th>10236</th>\n",
       "      <td>Teenage Mutant Ninja Turtles III</td>\n",
       "      <td>Stuart Gillard</td>\n",
       "      <td>japan, time travel, ninjas</td>\n",
       "      <td>96</td>\n",
       "      <td>Action, Adventure, Comedy, Family, Fantasy</td>\n",
       "      <td>New Line Cinema, Golden Harvest Pictures, Clea...</td>\n",
       "      <td>1993-03-17</td>\n",
       "      <td>95</td>\n",
       "      <td>5.200</td>\n",
       "      <td>31.699</td>\n",
       "      <td>63.398</td>\n",
       "    </tr>\n",
       "    <tr>\n",
       "      <th>2519</th>\n",
       "      <td>Angela's Ashes</td>\n",
       "      <td>Alan Parker</td>\n",
       "      <td>emigration, irish-american, hunger, socially d...</td>\n",
       "      <td>145</td>\n",
       "      <td>Drama</td>\n",
       "      <td>Paramount Pictures, Universal Pictures</td>\n",
       "      <td>1999-12-25</td>\n",
       "      <td>24</td>\n",
       "      <td>7.000</td>\n",
       "      <td>32.726</td>\n",
       "      <td>17.018</td>\n",
       "    </tr>\n",
       "    <tr>\n",
       "      <th>9992</th>\n",
       "      <td>The Hunt for Red October</td>\n",
       "      <td>John McTiernan</td>\n",
       "      <td>submarine, cold war, russian, defection, jack ...</td>\n",
       "      <td>134</td>\n",
       "      <td>Action, Adventure, Thriller</td>\n",
       "      <td>Paramount Pictures, Nina Saxon Film Design, Ma...</td>\n",
       "      <td>1990-03-02</td>\n",
       "      <td>615</td>\n",
       "      <td>6.900</td>\n",
       "      <td>50.067</td>\n",
       "      <td>333.780</td>\n",
       "    </tr>\n",
       "    <tr>\n",
       "      <th>1733</th>\n",
       "      <td>Wanted</td>\n",
       "      <td>Prabhu Deva</td>\n",
       "      <td>gang war</td>\n",
       "      <td>129</td>\n",
       "      <td>Action, Comedy, Crime, Thriller</td>\n",
       "      <td>Sahara One Motion Pictures</td>\n",
       "      <td>2009-09-18</td>\n",
       "      <td>18</td>\n",
       "      <td>4.900</td>\n",
       "      <td>76.230</td>\n",
       "      <td>136.198</td>\n",
       "    </tr>\n",
       "    <tr>\n",
       "      <th>3968</th>\n",
       "      <td>The Sum of All Fears</td>\n",
       "      <td>Phil Alden Robinson</td>\n",
       "      <td>cia, terrorist, atomic bomb, cold war, nuclear...</td>\n",
       "      <td>124</td>\n",
       "      <td>Thriller, Action, Drama</td>\n",
       "      <td>Paramount Pictures, Mace Neufeld Productions, ...</td>\n",
       "      <td>2002-05-31</td>\n",
       "      <td>256</td>\n",
       "      <td>5.700</td>\n",
       "      <td>82.434</td>\n",
       "      <td>233.966</td>\n",
       "    </tr>\n",
       "    <tr>\n",
       "      <th>3608</th>\n",
       "      <td>From Prada to Nada</td>\n",
       "      <td>Angel Gracia</td>\n",
       "      <td>tattoo, cooking, bankrupt, sacrifice, latina</td>\n",
       "      <td>107</td>\n",
       "      <td>Comedy, Drama, Romance</td>\n",
       "      <td>Lewis Gilbert Productions, Lionsgate, Modern V...</td>\n",
       "      <td>2011-01-28</td>\n",
       "      <td>47</td>\n",
       "      <td>5.200</td>\n",
       "      <td>90.154</td>\n",
       "      <td>2423495.106</td>\n",
       "    </tr>\n",
       "    <tr>\n",
       "      <th>10495</th>\n",
       "      <td>The Karate Kid, Part II</td>\n",
       "      <td>John G. Avildsen</td>\n",
       "      <td>martial arts, karate, okinawa, revanche, self ...</td>\n",
       "      <td>113</td>\n",
       "      <td>Adventure, Drama, Action, Romance, Family</td>\n",
       "      <td>Columbia Pictures Corporation, Delphi V Produc...</td>\n",
       "      <td>1986-06-18</td>\n",
       "      <td>211</td>\n",
       "      <td>5.800</td>\n",
       "      <td>224.803</td>\n",
       "      <td>228988593.738</td>\n",
       "    </tr>\n",
       "    <tr>\n",
       "      <th>6179</th>\n",
       "      <td>Into the Night</td>\n",
       "      <td>John Landis</td>\n",
       "      <td>adultery, assassin, airport, daily life, chase</td>\n",
       "      <td>115</td>\n",
       "      <td>Comedy, Drama, Thriller</td>\n",
       "      <td>Universal Pictures</td>\n",
       "      <td>1985-02-15</td>\n",
       "      <td>24</td>\n",
       "      <td>6.100</td>\n",
       "      <td>231.097</td>\n",
       "      <td>13582012.550</td>\n",
       "    </tr>\n",
       "    <tr>\n",
       "      <th>7813</th>\n",
       "      <td>Loose Change: Final Cut</td>\n",
       "      <td>Dylan Avery</td>\n",
       "      <td>september 11 2001</td>\n",
       "      <td>129</td>\n",
       "      <td>Documentary</td>\n",
       "      <td>Louder Than Words</td>\n",
       "      <td>2007-11-11</td>\n",
       "      <td>12</td>\n",
       "      <td>5.100</td>\n",
       "      <td>6310.011</td>\n",
       "      <td>6310.011</td>\n",
       "    </tr>\n",
       "    <tr>\n",
       "      <th>3755</th>\n",
       "      <td>Weekend</td>\n",
       "      <td>Andrew Haigh</td>\n",
       "      <td>gay, great britain, one-night stand, independe...</td>\n",
       "      <td>96</td>\n",
       "      <td>Drama, Romance</td>\n",
       "      <td>EM Media, The Bureau, Glendale Picture Company...</td>\n",
       "      <td>2011-09-22</td>\n",
       "      <td>96</td>\n",
       "      <td>7.400</td>\n",
       "      <td>7755.184</td>\n",
       "      <td>455565.702</td>\n",
       "    </tr>\n",
       "    <tr>\n",
       "      <th>7044</th>\n",
       "      <td>Primer</td>\n",
       "      <td>Shane Carruth</td>\n",
       "      <td>distrust, garage, identity crisis, time travel...</td>\n",
       "      <td>79</td>\n",
       "      <td>Science Fiction, Drama, Thriller</td>\n",
       "      <td>Thinkfilm</td>\n",
       "      <td>2004-10-08</td>\n",
       "      <td>341</td>\n",
       "      <td>6.900</td>\n",
       "      <td>8081.118</td>\n",
       "      <td>490362.228</td>\n",
       "    </tr>\n",
       "    <tr>\n",
       "      <th>7447</th>\n",
       "      <td>Paranormal Activity</td>\n",
       "      <td>Oren Peli</td>\n",
       "      <td>haunting, psychic, entity, demonic possession,...</td>\n",
       "      <td>86</td>\n",
       "      <td>Horror, Mystery</td>\n",
       "      <td>Blumhouse Productions, Solana Films</td>\n",
       "      <td>2007-09-14</td>\n",
       "      <td>714</td>\n",
       "      <td>6.100</td>\n",
       "      <td>15775.029</td>\n",
       "      <td>203346220.130</td>\n",
       "    </tr>\n",
       "    <tr>\n",
       "      <th>3785</th>\n",
       "      <td>Bellflower</td>\n",
       "      <td>Evan Glodell</td>\n",
       "      <td>tattoo, weapon, independent film, gang, medusa</td>\n",
       "      <td>106</td>\n",
       "      <td>Action, Drama, Romance</td>\n",
       "      <td>Coatwolf Productions</td>\n",
       "      <td>2011-04-16</td>\n",
       "      <td>24</td>\n",
       "      <td>6.700</td>\n",
       "      <td>16479.767</td>\n",
       "      <td>98137.980</td>\n",
       "    </tr>\n",
       "    <tr>\n",
       "      <th>2227</th>\n",
       "      <td>Howl</td>\n",
       "      <td>Rob Epstein, Jeffrey Friedman</td>\n",
       "      <td>poetry, literature, freedom, homosexuality, in...</td>\n",
       "      <td>84</td>\n",
       "      <td>Drama</td>\n",
       "      <td>RabbitBandini Productions, Werc Werk Works</td>\n",
       "      <td>2010-08-26</td>\n",
       "      <td>45</td>\n",
       "      <td>6.800</td>\n",
       "      <td>30000.000</td>\n",
       "      <td>617000.000</td>\n",
       "    </tr>\n",
       "    <tr>\n",
       "      <th>2207</th>\n",
       "      <td>Catfish</td>\n",
       "      <td>Henry Joost, Ariel Schulman</td>\n",
       "      <td>aftercreditsstinger</td>\n",
       "      <td>87</td>\n",
       "      <td>Documentary</td>\n",
       "      <td>Hit the Ground Running Films</td>\n",
       "      <td>2010-09-17</td>\n",
       "      <td>125</td>\n",
       "      <td>6.400</td>\n",
       "      <td>30000.000</td>\n",
       "      <td>3045943.000</td>\n",
       "    </tr>\n",
       "    <tr>\n",
       "      <th>2449</th>\n",
       "      <td>The Blair Witch Project</td>\n",
       "      <td>Daniel Myrick, Eduardo SÃ¡nchez</td>\n",
       "      <td>witch, voodoo, legend, sorcery, maryland</td>\n",
       "      <td>81</td>\n",
       "      <td>Horror, Mystery</td>\n",
       "      <td>Artisan Entertainment, Haxan Films</td>\n",
       "      <td>1999-07-14</td>\n",
       "      <td>522</td>\n",
       "      <td>6.300</td>\n",
       "      <td>32726.321</td>\n",
       "      <td>324645105.955</td>\n",
       "    </tr>\n",
       "    <tr>\n",
       "      <th>1354</th>\n",
       "      <td>Eraserhead</td>\n",
       "      <td>David Lynch</td>\n",
       "      <td>baby, mutant, claustrophobia, nightmare, paren...</td>\n",
       "      <td>89</td>\n",
       "      <td>Science Fiction, Fantasy, Horror, Drama</td>\n",
       "      <td>American Film Institute (AFI), Libra Films</td>\n",
       "      <td>1977-03-19</td>\n",
       "      <td>194</td>\n",
       "      <td>7.100</td>\n",
       "      <td>35977.810</td>\n",
       "      <td>25184467.228</td>\n",
       "    </tr>\n",
       "    <tr>\n",
       "      <th>4192</th>\n",
       "      <td>Clerks</td>\n",
       "      <td>Kevin Smith</td>\n",
       "      <td>salesclerk, loser, aftercreditsstinger</td>\n",
       "      <td>92</td>\n",
       "      <td>Comedy</td>\n",
       "      <td>Miramax Films, View Askew Productions</td>\n",
       "      <td>1994-09-13</td>\n",
       "      <td>383</td>\n",
       "      <td>7.200</td>\n",
       "      <td>39720.012</td>\n",
       "      <td>4635663.775</td>\n",
       "    </tr>\n",
       "    <tr>\n",
       "      <th>3798</th>\n",
       "      <td>Life in a Day</td>\n",
       "      <td>Kevin Macdonald, Zillah Bowes</td>\n",
       "      <td>daily life, non fiction, clip show, fear, talk...</td>\n",
       "      <td>95</td>\n",
       "      <td>Documentary, Drama</td>\n",
       "      <td>Scott Free Productions, YouTube, LG</td>\n",
       "      <td>2011-01-27</td>\n",
       "      <td>58</td>\n",
       "      <td>7.300</td>\n",
       "      <td>43818.730</td>\n",
       "      <td>218949.211</td>\n",
       "    </tr>\n",
       "    <tr>\n",
       "      <th>4176</th>\n",
       "      <td>The Kid Stays in the Picture</td>\n",
       "      <td>Nanette Burstein, Brett Morgen</td>\n",
       "      <td>cocaine, arranged marriage, love, hollywood, w...</td>\n",
       "      <td>93</td>\n",
       "      <td>Documentary</td>\n",
       "      <td>Ministry of Propaganda Films, Woodland Picture...</td>\n",
       "      <td>2002-01-18</td>\n",
       "      <td>10</td>\n",
       "      <td>7.400</td>\n",
       "      <td>48490.456</td>\n",
       "      <td>1738911.384</td>\n",
       "    </tr>\n",
       "    <tr>\n",
       "      <th>7277</th>\n",
       "      <td>Pink Flamingos</td>\n",
       "      <td>John Waters</td>\n",
       "      <td>gay, trailer park, pop culture, drug dealer, h...</td>\n",
       "      <td>93</td>\n",
       "      <td>Comedy</td>\n",
       "      <td>Dreamland Productions</td>\n",
       "      <td>1972-03-12</td>\n",
       "      <td>51</td>\n",
       "      <td>6.300</td>\n",
       "      <td>62574.731</td>\n",
       "      <td>31287365.588</td>\n",
       "    </tr>\n",
       "  </tbody>\n",
       "</table>\n",
       "</div>"
      ],
      "text/plain": [
       "                           original_title                         director  \\\n",
       "3581              Love, Wedding, Marriage                  Dermot Mulroney   \n",
       "2618                         Lost & Found                     Jeff Pollack   \n",
       "2398                                  Boy                    Taika Waititi   \n",
       "8944                         Death Wish 2                   Michael Winner   \n",
       "10050  Tales from the Darkside: The Movie                    John Harrison   \n",
       "8235                  Tales from the Hood                   Rusty Cundieff   \n",
       "5852                         Hross Ã­ oss              Benedikt Erlingsson   \n",
       "8125                         The Prophecy                    Gregory Widen   \n",
       "10297  National Lampoon's Loaded Weapon 1                    Gene Quintano   \n",
       "10236    Teenage Mutant Ninja Turtles III                   Stuart Gillard   \n",
       "2519                       Angela's Ashes                      Alan Parker   \n",
       "9992             The Hunt for Red October                   John McTiernan   \n",
       "1733                               Wanted                      Prabhu Deva   \n",
       "3968                 The Sum of All Fears              Phil Alden Robinson   \n",
       "3608                   From Prada to Nada                     Angel Gracia   \n",
       "10495             The Karate Kid, Part II                 John G. Avildsen   \n",
       "6179                       Into the Night                      John Landis   \n",
       "7813              Loose Change: Final Cut                      Dylan Avery   \n",
       "3755                              Weekend                     Andrew Haigh   \n",
       "7044                               Primer                    Shane Carruth   \n",
       "7447                  Paranormal Activity                        Oren Peli   \n",
       "3785                           Bellflower                     Evan Glodell   \n",
       "2227                                 Howl    Rob Epstein, Jeffrey Friedman   \n",
       "2207                              Catfish      Henry Joost, Ariel Schulman   \n",
       "2449              The Blair Witch Project  Daniel Myrick, Eduardo SÃ¡nchez   \n",
       "1354                           Eraserhead                      David Lynch   \n",
       "4192                               Clerks                      Kevin Smith   \n",
       "3798                        Life in a Day    Kevin Macdonald, Zillah Bowes   \n",
       "4176         The Kid Stays in the Picture   Nanette Burstein, Brett Morgen   \n",
       "7277                       Pink Flamingos                      John Waters   \n",
       "\n",
       "                                                keywords  runtime  \\\n",
       "3581                        wedding vows, marriage, love       90   \n",
       "2618                     restaurant, neighbor, dog, ring       95   \n",
       "2398   new zealand, maori, farm, goat, duringcreditss...       87   \n",
       "8944   rape, detective, drug traffic, vigilante, revenge       88   \n",
       "10050  anthology, based on tv series, darkside, antho...       93   \n",
       "8235        prison, ghetto, anthology, evil doll, murder       98   \n",
       "5852                        horse, snow storm, icelandic       85   \n",
       "8125                angel, archangel gabriel, menschheit       98   \n",
       "10297                cocaine, police, spoof, los angeles       84   \n",
       "10236                         japan, time travel, ninjas       96   \n",
       "2519   emigration, irish-american, hunger, socially d...      145   \n",
       "9992   submarine, cold war, russian, defection, jack ...      134   \n",
       "1733                                            gang war      129   \n",
       "3968   cia, terrorist, atomic bomb, cold war, nuclear...      124   \n",
       "3608        tattoo, cooking, bankrupt, sacrifice, latina      107   \n",
       "10495  martial arts, karate, okinawa, revanche, self ...      113   \n",
       "6179      adultery, assassin, airport, daily life, chase      115   \n",
       "7813                                   september 11 2001      129   \n",
       "3755   gay, great britain, one-night stand, independe...       96   \n",
       "7044   distrust, garage, identity crisis, time travel...       79   \n",
       "7447   haunting, psychic, entity, demonic possession,...       86   \n",
       "3785      tattoo, weapon, independent film, gang, medusa      106   \n",
       "2227   poetry, literature, freedom, homosexuality, in...       84   \n",
       "2207                                 aftercreditsstinger       87   \n",
       "2449            witch, voodoo, legend, sorcery, maryland       81   \n",
       "1354   baby, mutant, claustrophobia, nightmare, paren...       89   \n",
       "4192              salesclerk, loser, aftercreditsstinger       92   \n",
       "3798   daily life, non fiction, clip show, fear, talk...       95   \n",
       "4176   cocaine, arranged marriage, love, hollywood, w...       93   \n",
       "7277   gay, trailer park, pop culture, drug dealer, h...       93   \n",
       "\n",
       "                                           genres  \\\n",
       "3581                              Comedy, Romance   \n",
       "2618                              Comedy, Romance   \n",
       "2398                                Drama, Comedy   \n",
       "8944                      Action, Crime, Thriller   \n",
       "10050                     Fantasy, Horror, Comedy   \n",
       "8235                             Horror, Thriller   \n",
       "5852                       Drama, Romance, Comedy   \n",
       "8125                    Fantasy, Horror, Thriller   \n",
       "10297                                      Comedy   \n",
       "10236  Action, Adventure, Comedy, Family, Fantasy   \n",
       "2519                                        Drama   \n",
       "9992                  Action, Adventure, Thriller   \n",
       "1733              Action, Comedy, Crime, Thriller   \n",
       "3968                      Thriller, Action, Drama   \n",
       "3608                       Comedy, Drama, Romance   \n",
       "10495   Adventure, Drama, Action, Romance, Family   \n",
       "6179                      Comedy, Drama, Thriller   \n",
       "7813                                  Documentary   \n",
       "3755                               Drama, Romance   \n",
       "7044             Science Fiction, Drama, Thriller   \n",
       "7447                              Horror, Mystery   \n",
       "3785                       Action, Drama, Romance   \n",
       "2227                                        Drama   \n",
       "2207                                  Documentary   \n",
       "2449                              Horror, Mystery   \n",
       "1354      Science Fiction, Fantasy, Horror, Drama   \n",
       "4192                                       Comedy   \n",
       "3798                           Documentary, Drama   \n",
       "4176                                  Documentary   \n",
       "7277                                       Comedy   \n",
       "\n",
       "                                    production_companies release_date  \\\n",
       "3581   120dB Films, Scion Films, Voodoo Production Se...   2011-06-03   \n",
       "2618           Alcon Entertainment, Dinamo Entertainment   1999-04-23   \n",
       "2398   New Zealand Film Commission, Unison Films, Whe...   2010-02-14   \n",
       "8944                                        Cannon Films   1982-02-20   \n",
       "10050  Paramount Pictures, Laurel Productions, Darksi...   1990-05-03   \n",
       "8235                                      Savoy Pictures   1995-05-24   \n",
       "5852                   Filmhuset Gruppen, Leiknar Myndir   2013-08-30   \n",
       "8125                                     Dimension Films   1995-09-01   \n",
       "10297                                    New Line Cinema   1993-02-04   \n",
       "10236  New Line Cinema, Golden Harvest Pictures, Clea...   1993-03-17   \n",
       "2519              Paramount Pictures, Universal Pictures   1999-12-25   \n",
       "9992   Paramount Pictures, Nina Saxon Film Design, Ma...   1990-03-02   \n",
       "1733                          Sahara One Motion Pictures   2009-09-18   \n",
       "3968   Paramount Pictures, Mace Neufeld Productions, ...   2002-05-31   \n",
       "3608   Lewis Gilbert Productions, Lionsgate, Modern V...   2011-01-28   \n",
       "10495  Columbia Pictures Corporation, Delphi V Produc...   1986-06-18   \n",
       "6179                                  Universal Pictures   1985-02-15   \n",
       "7813                                   Louder Than Words   2007-11-11   \n",
       "3755   EM Media, The Bureau, Glendale Picture Company...   2011-09-22   \n",
       "7044                                           Thinkfilm   2004-10-08   \n",
       "7447                 Blumhouse Productions, Solana Films   2007-09-14   \n",
       "3785                                Coatwolf Productions   2011-04-16   \n",
       "2227          RabbitBandini Productions, Werc Werk Works   2010-08-26   \n",
       "2207                        Hit the Ground Running Films   2010-09-17   \n",
       "2449                  Artisan Entertainment, Haxan Films   1999-07-14   \n",
       "1354          American Film Institute (AFI), Libra Films   1977-03-19   \n",
       "4192               Miramax Films, View Askew Productions   1994-09-13   \n",
       "3798                 Scott Free Productions, YouTube, LG   2011-01-27   \n",
       "4176   Ministry of Propaganda Films, Woodland Picture...   2002-01-18   \n",
       "7277                               Dreamland Productions   1972-03-12   \n",
       "\n",
       "       vote_count  vote_average  budget_adj   revenue_adj  \n",
       "3581           55         5.300       0.969      1335.831  \n",
       "2618           14         4.800       1.309       130.905  \n",
       "2398           26         7.300       3.000        43.000  \n",
       "8944           27         5.600       4.519        36.154  \n",
       "10050          37         5.800       5.007        26.702  \n",
       "8235           13         5.100       8.586        15.741  \n",
       "5852           11         6.500       9.360        10.296  \n",
       "8125           54         5.500      11.448        22.895  \n",
       "10297          72         5.500      12.076        40.756  \n",
       "10236          95         5.200      31.699        63.398  \n",
       "2519           24         7.000      32.726        17.018  \n",
       "9992          615         6.900      50.067       333.780  \n",
       "1733           18         4.900      76.230       136.198  \n",
       "3968          256         5.700      82.434       233.966  \n",
       "3608           47         5.200      90.154   2423495.106  \n",
       "10495         211         5.800     224.803 228988593.738  \n",
       "6179           24         6.100     231.097  13582012.550  \n",
       "7813           12         5.100    6310.011      6310.011  \n",
       "3755           96         7.400    7755.184    455565.702  \n",
       "7044          341         6.900    8081.118    490362.228  \n",
       "7447          714         6.100   15775.029 203346220.130  \n",
       "3785           24         6.700   16479.767     98137.980  \n",
       "2227           45         6.800   30000.000    617000.000  \n",
       "2207          125         6.400   30000.000   3045943.000  \n",
       "2449          522         6.300   32726.321 324645105.955  \n",
       "1354          194         7.100   35977.810  25184467.228  \n",
       "4192          383         7.200   39720.012   4635663.775  \n",
       "3798           58         7.300   43818.730    218949.211  \n",
       "4176           10         7.400   48490.456   1738911.384  \n",
       "7277           51         6.300   62574.731  31287365.588  "
      ]
     },
     "execution_count": 24,
     "metadata": {},
     "output_type": "execute_result"
    }
   ],
   "source": [
    "## Sorting values in column 'budget_adj'\n",
    "sort_by_budget= df.sort_values('budget_adj')\n",
    "sort_by_budget.head(30)"
   ]
  },
  {
   "cell_type": "markdown",
   "metadata": {},
   "source": [
    "The first 30 values in column 'budget_adj' seem too low for the production of a movie. Nevertheless, and as I don't know the exact amount that is considered as reasonable for a movie's budget, I'll just keep in mind this limitation of the dataset when interpreting the results."
   ]
  },
  {
   "cell_type": "markdown",
   "metadata": {},
   "source": [
    "<a id='eda'></a>\n",
    "## Exploratory Data Analysis\n",
    "\n",
    "\n",
    "\n",
    "### Are there companies more successful than others producing well rated movies?\n",
    "\n",
    "There seem to be many production companies. Nevertheless, I'd like to see if there are a few companies that produce the best rated movies."
   ]
  },
  {
   "cell_type": "code",
   "execution_count": 25,
   "metadata": {},
   "outputs": [
    {
     "data": {
      "text/plain": [
       "2905"
      ]
     },
     "execution_count": 25,
     "metadata": {},
     "output_type": "execute_result"
    }
   ],
   "source": [
    "# Use this, and more code cells, to explore your data. Don't forget to add\n",
    "#   Markdown cells to document your observations and findings.\n",
    "df['production_companies'].nunique()"
   ]
  },
  {
   "cell_type": "markdown",
   "metadata": {},
   "source": [
    "I'll define the best rated movies as those that get the ratings between the 75th and 100th percentile, i.e. a rating over 6.7 points. First I'll select only movies that fit in that category and then I'll check the distribution of the production companies within that group."
   ]
  },
  {
   "cell_type": "code",
   "execution_count": 26,
   "metadata": {},
   "outputs": [
    {
     "data": {
      "text/plain": [
       "(878, 11)"
      ]
     },
     "execution_count": 26,
     "metadata": {},
     "output_type": "execute_result"
    }
   ],
   "source": [
    "## Filtering the top 25% rated movies\n",
    "df_p=df.query('vote_average>6.7')\n",
    "df_p.shape"
   ]
  },
  {
   "cell_type": "code",
   "execution_count": 27,
   "metadata": {},
   "outputs": [
    {
     "data": {
      "image/png": "[encoded data removed]",
      "text/plain": [
       "<matplotlib.figure.Figure at 0x7fe5a2efb160>"
      ]
     },
     "metadata": {
      "needs_background": "light"
     },
     "output_type": "display_data"
    }
   ],
   "source": [
    "df_p['production_companies'].value_counts().head(20).plot(kind='bar');"
   ]
  },
  {
   "cell_type": "markdown",
   "metadata": {},
   "source": [
    "As per our dataset, it seems Paramount Pictures, Universal Pictures, Coumbia Pictures and Warner Bros have produced some of the best rated (top 25%) movies. Nevertheless, this might be either because their experience in the industry or because they produce many more movies than other Production companies.\n",
    "\n",
    "We can see also that Walt Disney is not in the top three but it has coproduced some of the films and produces them under different names: Walt Disney Pictures, Walt Disney Productions, Walt Disney Feature Animation.\n",
    "\n",
    "As we can see below, the Production Companies producing more well rated movies by TMDb users are also producing many more movies than other Production Companies (in average each company - or compound of companies- produced 1.27 movies) : "
   ]
  },
  {
   "cell_type": "code",
   "execution_count": 28,
   "metadata": {},
   "outputs": [
    {
     "data": {
      "text/plain": [
       "Paramount Pictures                                     75\n",
       "Universal Pictures                                     57\n",
       "Columbia Pictures                                      39\n",
       "New Line Cinema                                        37\n",
       "Warner Bros.                                           32\n",
       "Metro-Goldwyn-Mayer (MGM)                              25\n",
       "Touchstone Pictures                                    23\n",
       "Twentieth Century Fox Film Corporation                 21\n",
       "Walt Disney Pictures                                   21\n",
       "20th Century Fox                                       20\n",
       "Orion Pictures                                         17\n",
       "Miramax Films                                          17\n",
       "Dimension Films                                        16\n",
       "DreamWorks Animation                                   15\n",
       "United Artists                                         15\n",
       "TriStar Pictures                                       15\n",
       "Columbia Pictures Corporation                          15\n",
       "Walt Disney Pictures, Pixar Animation Studios          13\n",
       "Walt Disney Pictures, Walt Disney Feature Animation    12\n",
       "Imagine Entertainment, Universal Pictures              11\n",
       "Name: production_companies, dtype: int64"
      ]
     },
     "execution_count": 28,
     "metadata": {},
     "output_type": "execute_result"
    }
   ],
   "source": [
    "## Count of produced movies per production company, all ratings included. Only first 20,\n",
    "##descending order\n",
    "df['production_companies'].value_counts().head(20)"
   ]
  },
  {
   "cell_type": "markdown",
   "metadata": {},
   "source": [
    "In the pie chart below we can see the ten production companies that produced more movies each. These are all big names of the cinema industry."
   ]
  },
  {
   "cell_type": "code",
   "execution_count": 29,
   "metadata": {},
   "outputs": [
    {
     "data": {
      "image/png": "[encoded data removed]",
      "text/plain": [
       "<matplotlib.figure.Figure at 0x7fe5a2e3e3c8>"
      ]
     },
     "metadata": {},
     "output_type": "display_data"
    }
   ],
   "source": [
    "#Number of movies, all ratings included, produced by first 10 production\n",
    "##companies with more movies in the dataset\n",
    "df['production_companies'].value_counts().head(10).plot(kind='pie');"
   ]
  },
  {
   "cell_type": "markdown",
   "metadata": {},
   "source": [
    "### Are the most expensive movies also the most popular/best rated movies?"
   ]
  },
  {
   "cell_type": "markdown",
   "metadata": {},
   "source": [
    "Now I would like to see if there is any correlation between the rating of a movie ('vote_average') and the budget used for producing it:"
   ]
  },
  {
   "cell_type": "code",
   "execution_count": 30,
   "metadata": {},
   "outputs": [
    {
     "data": {
      "image/png": "[encoded data removed]",
      "text/plain": [
       "<matplotlib.figure.Figure at 0x7fe5abae1748>"
      ]
     },
     "metadata": {
      "needs_background": "light"
     },
     "output_type": "display_data"
    }
   ],
   "source": [
    "## Plotting ratings against budget\n",
    "df.plot(x='vote_average', y='budget_adj', kind='scatter', title= 'Correlation between rating and production budget');"
   ]
  },
  {
   "cell_type": "markdown",
   "metadata": {},
   "source": [
    "There is some positive correlation, but not very strong. There are a lot of movies with a small budget that got a good 'vote_average' in TMDb."
   ]
  },
  {
   "cell_type": "markdown",
   "metadata": {},
   "source": [
    "### Is the rating of sequels better than the average rating? What's the distribution of the popularity of movies considered as sequels ?"
   ]
  },
  {
   "cell_type": "markdown",
   "metadata": {},
   "source": [
    "I personally find most sequels worse than the original title so I would like to see how many of the movies considered as sequels are rated better than the mean value of 'vote_average' (6.182) and how many worse:"
   ]
  },
  {
   "cell_type": "markdown",
   "metadata": {},
   "source": [
    "Now I will try to find out how many out of the 53 movies classed as sequels get a better 'vote_average' than the mean of the whole dataset (6.182):\n"
   ]
  },
  {
   "cell_type": "code",
   "execution_count": 31,
   "metadata": {},
   "outputs": [
    {
     "data": {
      "text/plain": [
       "(53, 11)"
      ]
     },
     "execution_count": 31,
     "metadata": {},
     "output_type": "execute_result"
    }
   ],
   "source": [
    "sequels= df[df['keywords'].str.contains('sequel', case=False)]\n",
    "sequels.shape"
   ]
  },
  {
   "cell_type": "code",
   "execution_count": 32,
   "metadata": {},
   "outputs": [
    {
     "data": {
      "image/png": "[encoded data removed]",
      "text/plain": [
       "<matplotlib.figure.Figure at 0x7fe5a2a33390>"
      ]
     },
     "metadata": {
      "needs_background": "light"
     },
     "output_type": "display_data"
    }
   ],
   "source": [
    "mean_rating= df['vote_average'].mean()\n",
    "\n",
    "\n",
    "above_average=sequels[sequels['vote_average']>mean_rating].count()['original_title']\n",
    "below_average=sequels[sequels['vote_average']<mean_rating].count()['original_title']\n",
    "plt.bar([\"above_average\",\"below_average\"], [above_average,below_average]);\n",
    "plt.title('Rating of sequels above or below mean of vote_average');\n",
    "plt.ylabel('Vote_average');\n"
   ]
  },
  {
   "cell_type": "markdown",
   "metadata": {},
   "source": [
    "### Is there a correlation between budget and profit? "
   ]
  },
  {
   "cell_type": "markdown",
   "metadata": {},
   "source": [
    "We've seen that there is no a strong correlation between 'budget' and 'vote_average'. Nevertheless, I'd like to see whether films that were more expensive to produce were also more profitable. To see this correlation, I'm going to create a new column named 'profit':"
   ]
  },
  {
   "cell_type": "code",
   "execution_count": 33,
   "metadata": {},
   "outputs": [
    {
     "data": {
      "text/html": [
       "<div>\n",
       "<style scoped>\n",
       "    .dataframe tbody tr th:only-of-type {\n",
       "        vertical-align: middle;\n",
       "    }\n",
       "\n",
       "    .dataframe tbody tr th {\n",
       "        vertical-align: top;\n",
       "    }\n",
       "\n",
       "    .dataframe thead th {\n",
       "        text-align: right;\n",
       "    }\n",
       "</style>\n",
       "<table border=\"1\" class=\"dataframe\">\n",
       "  <thead>\n",
       "    <tr style=\"text-align: right;\">\n",
       "      <th></th>\n",
       "      <th>runtime</th>\n",
       "      <th>vote_count</th>\n",
       "      <th>vote_average</th>\n",
       "      <th>budget_adj</th>\n",
       "      <th>revenue_adj</th>\n",
       "      <th>profit</th>\n",
       "    </tr>\n",
       "  </thead>\n",
       "  <tbody>\n",
       "    <tr>\n",
       "      <th>count</th>\n",
       "      <td>3679.000</td>\n",
       "      <td>3679.000</td>\n",
       "      <td>3679.000</td>\n",
       "      <td>3679.000</td>\n",
       "      <td>3679.000</td>\n",
       "      <td>3679.000</td>\n",
       "    </tr>\n",
       "    <tr>\n",
       "      <th>mean</th>\n",
       "      <td>109.561</td>\n",
       "      <td>547.413</td>\n",
       "      <td>6.182</td>\n",
       "      <td>45364250.989</td>\n",
       "      <td>142011525.137</td>\n",
       "      <td>96647274.147</td>\n",
       "    </tr>\n",
       "    <tr>\n",
       "      <th>std</th>\n",
       "      <td>19.855</td>\n",
       "      <td>894.797</td>\n",
       "      <td>0.790</td>\n",
       "      <td>45191098.534</td>\n",
       "      <td>219481097.448</td>\n",
       "      <td>197499742.828</td>\n",
       "    </tr>\n",
       "    <tr>\n",
       "      <th>min</th>\n",
       "      <td>26.000</td>\n",
       "      <td>10.000</td>\n",
       "      <td>2.200</td>\n",
       "      <td>0.969</td>\n",
       "      <td>2.862</td>\n",
       "      <td>-413912431.000</td>\n",
       "    </tr>\n",
       "    <tr>\n",
       "      <th>25%</th>\n",
       "      <td>96.000</td>\n",
       "      <td>78.000</td>\n",
       "      <td>5.700</td>\n",
       "      <td>13816365.762</td>\n",
       "      <td>20375176.800</td>\n",
       "      <td>-916799.688</td>\n",
       "    </tr>\n",
       "    <tr>\n",
       "      <th>50%</th>\n",
       "      <td>106.000</td>\n",
       "      <td>218.000</td>\n",
       "      <td>6.200</td>\n",
       "      <td>31020737.363</td>\n",
       "      <td>65464324.000</td>\n",
       "      <td>30184497.892</td>\n",
       "    </tr>\n",
       "    <tr>\n",
       "      <th>75%</th>\n",
       "      <td>120.000</td>\n",
       "      <td>595.000</td>\n",
       "      <td>6.700</td>\n",
       "      <td>62130112.856</td>\n",
       "      <td>170436409.521</td>\n",
       "      <td>113026524.836</td>\n",
       "    </tr>\n",
       "    <tr>\n",
       "      <th>max</th>\n",
       "      <td>338.000</td>\n",
       "      <td>9767.000</td>\n",
       "      <td>8.400</td>\n",
       "      <td>425000000.000</td>\n",
       "      <td>2827123750.412</td>\n",
       "      <td>2750136650.919</td>\n",
       "    </tr>\n",
       "  </tbody>\n",
       "</table>\n",
       "</div>"
      ],
      "text/plain": [
       "       runtime  vote_count  vote_average    budget_adj    revenue_adj  \\\n",
       "count 3679.000    3679.000      3679.000      3679.000       3679.000   \n",
       "mean   109.561     547.413         6.182  45364250.989  142011525.137   \n",
       "std     19.855     894.797         0.790  45191098.534  219481097.448   \n",
       "min     26.000      10.000         2.200         0.969          2.862   \n",
       "25%     96.000      78.000         5.700  13816365.762   20375176.800   \n",
       "50%    106.000     218.000         6.200  31020737.363   65464324.000   \n",
       "75%    120.000     595.000         6.700  62130112.856  170436409.521   \n",
       "max    338.000    9767.000         8.400 425000000.000 2827123750.412   \n",
       "\n",
       "              profit  \n",
       "count       3679.000  \n",
       "mean    96647274.147  \n",
       "std    197499742.828  \n",
       "min   -413912431.000  \n",
       "25%      -916799.688  \n",
       "50%     30184497.892  \n",
       "75%    113026524.836  \n",
       "max   2750136650.919  "
      ]
     },
     "execution_count": 33,
     "metadata": {},
     "output_type": "execute_result"
    }
   ],
   "source": [
    "## Creating a new column called 'profit'\n",
    "df['profit']= df['revenue_adj']-df['budget_adj']\n",
    "df.describe()"
   ]
  },
  {
   "cell_type": "code",
   "execution_count": 34,
   "metadata": {},
   "outputs": [
    {
     "data": {
      "image/png": "[encoded data removed]",
      "text/plain": [
       "<matplotlib.figure.Figure at 0x7fe5a2a629e8>"
      ]
     },
     "metadata": {
      "needs_background": "light"
     },
     "output_type": "display_data"
    }
   ],
   "source": [
    "## plotting on budget and profit to see whether there is a correlation or not.\n",
    "\n",
    "df.plot(x='budget_adj', y='profit', kind='scatter');"
   ]
  },
  {
   "cell_type": "markdown",
   "metadata": {},
   "source": [
    "There is a positive correlation which means that as the budget increases the profit sometimes does too. Nevertheless, as per the scatter plot we can see it's not very strong."
   ]
  },
  {
   "cell_type": "markdown",
   "metadata": {},
   "source": [
    "### Is there a correlation between profit and good ratings in TMDb?"
   ]
  },
  {
   "cell_type": "markdown",
   "metadata": {},
   "source": [
    "What about the correlation between 'profit' and 'vote_average'? Let's see if profitable films got a higher 'vote_average' than those that got a smaller profit."
   ]
  },
  {
   "cell_type": "code",
   "execution_count": 35,
   "metadata": {},
   "outputs": [
    {
     "data": {
      "image/png": "[encoded data removed]",
      "text/plain": [
       "<matplotlib.figure.Figure at 0x7fe5a2b3ea20>"
      ]
     },
     "metadata": {
      "needs_background": "light"
     },
     "output_type": "display_data"
    }
   ],
   "source": [
    "df.plot(x='vote_average', y='profit', kind='scatter');"
   ]
  },
  {
   "cell_type": "markdown",
   "metadata": {},
   "source": [
    "The correlation is clearly positive between both variables. It means that profitable films got overall better ratings than films that were less profitable.\n",
    "\n"
   ]
  },
  {
   "cell_type": "markdown",
   "metadata": {},
   "source": [
    "<a id='conclusions'></a>\n",
    "## Conclusions\n",
    "\n",
    "\n",
    "\n",
    "I focused in the ratings of the films of the dataset and their relationship with other variables. \n",
    "\n",
    "First, I tried to check if some production companies were better at producing well rated movies. There seem to be some companies that got many more well rated movies than the average of the other production companies. Nevertheless, the analysis has some limitations. Same companies that have produced more well rated movies have also produced many more films, regardless the rating, than the rest of the production companies. This limitation could be overcome by working with proportions. The second limitation is that many companies produce movies together with other production companies. Therefore the number of movies each company has produced is more dificult to determine. \n",
    "\n",
    "Second, I wanted to find out if there was some correlation between the most expensive movies and good ratings, i.e.: whether most expensive movies were getting also the highest ratings. Looking to the scatter plot of the two variables, there seems to be some positive correlation but it isn't very strong. There are slightly more films with a big budget that got also better ratings. Nevertheless, there are many films with a budget on the small side that got rated really well. \n",
    "\n",
    "Third, I was curious about the rating ('vote_average') of movies classed as sequels. I wanted to know it their rating was over or below the mean of 'vote_average'. I found 53 sequel movies as per the variable 'keyword'. The majority of them (33 out of 53) got a rating below the mean of 'vote_average'. As per this dataset, sequel movies tend to be worse rated overall than movies that aren't a sequel.\n",
    "\n",
    "Fourth, I calculated the profit of each movie by substracting 'budget_adj' from 'revenue_adj'. I wanted to see whether movies with an important budget are more profitable than those with a small budget. There is no clear correlation between both variables according to the scatter plot I produced: small budget films are profitable more or less as often as big budget films of this dataset. It would be interesting to find out whether there are additional revenues and profit (not only those related to selling cinema tickets) that expensive movies have access to and other movies don't.\n",
    "\n",
    "Finally, I tried to see if there is any correlation between profitable films and good ratings. As per the scatter plot on variables 'profit' and 'vote_average' it seems to be a positive correlation, i.e. films that are more profitable seem to be also better rated than the average.\n",
    "\n",
    "An important limitation of the dataset is the number of missing values. There are more than 1000 missing values in the column 'production_companies'. It should be possible to look up the movies concerned by the missing values and find out the name of the production company. Nevertheless, due to the limited time to produce the report I abandoned the idea. I dropped all the null values instead. As a result the dataset was much smaller than the original one.\n",
    "\n",
    "Another limitation is the one noticed in the column 'budget_adj'. Even after dropping all values equal to zero, there are some very low values in the column. Double checking budget_adj values or dropping rows that don't meet a minimum value could be solutions to improve the quality of the dataset.\n"
   ]
  },
  {
   "cell_type": "code",
   "execution_count": 49,
   "metadata": {},
   "outputs": [
    {
     "data": {
      "text/plain": [
       "255"
      ]
     },
     "execution_count": 49,
     "metadata": {},
     "output_type": "execute_result"
    }
   ],
   "source": [
    "from subprocess import call\n",
    "call(['python', '-m', 'nbconvert', 'Investigate_a_Dataset.ipynb'])"
   ]
  }
 ],
 "metadata": {
  "kernelspec": {
   "display_name": "Python 3",
   "language": "python",
   "name": "python3"
  },
  "language_info": {
   "codemirror_mode": {
    "name": "ipython",
    "version": 3
   },
   "file_extension": ".py",
   "mimetype": "text/x-python",
   "name": "python",
   "nbconvert_exporter": "python",
   "pygments_lexer": "ipython3",
   "version": "3.6.3"
  }
 },
 "nbformat": 4,
 "nbformat_minor": 2
}
